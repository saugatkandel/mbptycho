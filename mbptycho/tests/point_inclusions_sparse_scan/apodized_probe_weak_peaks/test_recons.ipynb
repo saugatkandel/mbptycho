{
 "cells": [
  {
   "cell_type": "code",
   "execution_count": 1,
   "id": "4b631ede",
   "metadata": {},
   "outputs": [],
   "source": [
    "import numpy as np\n",
    "from matplotlib import pyplot as plt\n",
    "import matplotlib as mpl\n",
    "import tensorflow as tf\n",
    "import tensorflow_probability as tfp\n",
    "from tqdm import tqdm_notebook as tqdm\n",
    "\n",
    "from mbptycho.code.simulation import Simulation\n",
    "from skimage.registration import phase_cross_correlation\n",
    "import copy\n",
    "import os\n",
    "\n",
    "from mbptycho.code.simulation import reloadSimulation"
   ]
  },
  {
   "cell_type": "code",
   "execution_count": 2,
   "id": "b79206df",
   "metadata": {},
   "outputs": [],
   "source": [
    "%load_ext autoreload\n",
    "%autoreload 2"
   ]
  },
  {
   "cell_type": "code",
   "execution_count": null,
   "id": "e2bb07f6",
   "metadata": {},
   "outputs": [],
   "source": []
  },
  {
   "cell_type": "code",
   "execution_count": 3,
   "id": "673af8e3",
   "metadata": {},
   "outputs": [],
   "source": [
    "base_path = os.environ['HOME']"
   ]
  },
  {
   "cell_type": "code",
   "execution_count": 4,
   "id": "51e200ee",
   "metadata": {},
   "outputs": [],
   "source": [
    "probes_3d_path = f'{base_path}/code/mbptycho/experiments/matlab/datasets_0821/probes_4_peaks.mat'"
   ]
  },
  {
   "cell_type": "code",
   "execution_count": 5,
   "id": "e79a8947",
   "metadata": {},
   "outputs": [],
   "source": [
    "strain_type = 'point_inclusion'"
   ]
  },
  {
   "cell_type": "code",
   "execution_count": null,
   "id": "3ffb865b",
   "metadata": {},
   "outputs": [],
   "source": []
  },
  {
   "cell_type": "code",
   "execution_count": 293,
   "id": "460b1c91",
   "metadata": {},
   "outputs": [
    {
     "name": "stdout",
     "output_type": "stream",
     "text": [
      "Creating new sample...\n",
      "Depth of numerical window covers 0.5844363636363636 microns\n",
      "Magnitude scaling per peak is supplied. Does not apply random scaling.\n",
      "Loading probe from matlab data...\n",
      "Loading successful...\n"
     ]
    }
   ],
   "source": [
    "sm = Simulation(sim_params={'poisson_noise':False, \n",
    "                                    'probes_matlab_file':probes_3d_path, \n",
    "                                    'n_scan_positions':2,\n",
    "                                    'npix_scan_shift':6,\n",
    "                                      'HKL_list':np.array([[1, 2, 0]]),\n",
    "                                     'magnitudes_scaling_per_peak': [0.4]},\n",
    "                      extra_sample_params={'strain_type':strain_type, \n",
    "                                               'npix_delta_x':5,\n",
    "                                               'npix_delta_y':5})"
   ]
  },
  {
   "cell_type": "code",
   "execution_count": 320,
   "id": "dcdc20c6",
   "metadata": {},
   "outputs": [],
   "source": [
    "class MultiReflectionBraggPtychoFwdModel:\n",
    "\n",
    "    \n",
    "    def __init__(self, sim: Simulation):\n",
    "        self._sim = sim\n",
    "        self.variables = {}\n",
    "\n",
    "        self._setPixelsAndPads()\n",
    "        with tf.device('/gpu:0'):\n",
    "            self._coords_t = tf.constant(self._sim.simulations_per_peak[0].nw_coords_stacked, dtype='float32')\n",
    "            self._setScanCoords()\n",
    "\n",
    "            self._setInterpolationLimits()\n",
    "            self._setProbesAndMasks()\n",
    "            self._setLocationIndices()\n",
    "            self._setSliceIndices()\n",
    "\n",
    "\n",
    "    def _setPixelsAndPads(self):\n",
    "        self._npix_y = np.sum(np.sum(self._sim.sample.obj_mask_w_delta, axis=(1, 2)) > 0)\n",
    "        self._npix_x = np.sum(np.sum(self._sim.sample.obj_mask_w_delta, axis=(0, 2)) > 0)\n",
    "        self._npix_z = np.sum(np.sum(self._sim.sample.obj_mask_w_delta, axis=(0, 1)) > 0)\n",
    "\n",
    "        self._npix_xy = self._npix_x * self._npix_y\n",
    "\n",
    "        self._nyr, self._nxr, self._nzr = self._sim.rhos[0].shape\n",
    "        self._pady0 = np.where(self._sim.sample.obj_mask_w_delta.sum(axis=(1, 2)))[0][0]\n",
    "        self._padx0 = np.where(self._sim.sample.obj_mask_w_delta.sum(axis=(0, 2)))[0][0]\n",
    "        self._padz0 = np.where(self._sim.sample.obj_mask_w_delta.sum(axis=(0, 1)))[0][0]\n",
    "        \n",
    "        self._npix_det = self._sim.params.npix_det\n",
    "        # projection slice based on number of pixels in the detector\n",
    "        npix_diffy = (self._nyr - self._npix_det) // 2\n",
    "        npix_diffx = (self._nxr - self._npix_det) // 2\n",
    "        self._proj_slice = np.s_[npix_diffy: self._nyr - npix_diffy, npix_diffx: self._nxr - npix_diffx]\n",
    "    \n",
    "    def _setScanCoords(self):\n",
    "\n",
    "        if hasattr(self._sim.simulations_per_peak[0], \"ptycho_scan_positions\"):\n",
    "            self._has_scan_coords_per_peak = True\n",
    "            self._n_positions_per_peak = [s.ptycho_scan_positions.shape[0] for s in self._sim.simulations_per_peak]\n",
    "            self._cum_positions_per_peak = tf.math.cumsum(self._n_positions_per_peak)\n",
    "            self._scan_coords_t = tf.constant(np.concatenate([s.ptycho_scan_positions\n",
    "                                                              for s in self._sim.simulations_per_peak],\n",
    "                                                             axis=0),\n",
    "                                              dtype='int32')\n",
    "        else:\n",
    "            raise NotImplementedError\n",
    "            self._has_scan_coords_per_peak = False\n",
    "            self._scan_coords_t = tf.constant(self._sim.ptycho_scan_positions, dtype='int32')\n",
    "    \n",
    "    def _addMagnitudeVariable(self, magnitudes_init=None, magnitude_log_constraint_fn=None):\n",
    "        if self._shared_magnitudes:\n",
    "            size = self._npix_xy + self._sim.params.HKL_list.shape[0] - 1\n",
    "        else:\n",
    "            size = self._npix_xy * self._sim.params.HKL_list.shape[0]\n",
    "\n",
    "        if magnitudes_init is None:\n",
    "            magnitudes_init = np.zeros(size, dtype='float32')\n",
    "        else:\n",
    "            if magnitudes_init.size != size:\n",
    "                raise ValueError(\"magnitude initialization supplied is not valid\")\n",
    "\n",
    "        magnitudes_init_logs = np.log(magnitudes_init + 1e-7)\n",
    "        #magnitudes_init_logs = magnitudes_init\n",
    "        with tf.device('/gpu:0'):\n",
    "            self.magnitudes_log_v = tf.Variable(magnitudes_init_logs,\n",
    "                                           constraint=magnitude_log_constraint_fn,\n",
    "                                           dtype='float32',\n",
    "                                           name='magnitudes_log_v')\n",
    "        self.variables['magnitudes_log_v'] =  self.magnitudes_log_v\n",
    "        \n",
    "    def _addDisplacementVariable(self, ux_uy_init=None):\n",
    "        if ux_uy_init is None:\n",
    "            ux_uy_init = np.ones(self._npix_xy * 2)\n",
    "        else:\n",
    "            if len(ux_uy_init.shape) != 1:\n",
    "                raise ValueError(\"Supply a flat 1d array for the initialization.\")\n",
    "        with tf.device('/gpu:0'):\n",
    "            self.ux_uy_2d_v = tf.Variable(ux_uy_init, dtype='float32', name='ux_uy')\n",
    "        self.variables['ux_uy_2d_v'] = self.ux_uy_2d_v\n",
    "\n",
    "    def _addPhaseVariable(self, phases_init=None):\n",
    "\n",
    "        if phases_init is None:\n",
    "            phases_init = np.zeros(self._npix_xy * self._sim.params.HKL_list.shape[0])\n",
    "\n",
    "        with tf.device('/gpu:0'):\n",
    "            self.phases_v = tf.Variable(phases_init, dtype='float32', name='phases')\n",
    "        self.variables['phases'] = self.phases_v\n",
    "    \n",
    "    def _setInterpolationLimits(self):\n",
    "        # These arrays indicate the limits of the interpolation before the bragg projection.\n",
    "        self._interp_x_ref_min_t = tf.constant([self._sim.sample.y_full[0],\n",
    "                                                self._sim.sample.x_full[0],\n",
    "                                                self._sim.sample.z_full[0]], dtype='float32')\n",
    "        self._interp_x_ref_max_t = tf.constant([self._sim.sample.y_full[-1],\n",
    "                                                self._sim.sample.x_full[-1],\n",
    "                                                self._sim.sample.z_full[-1]], dtype='float32')\n",
    "\n",
    "\n",
    "    def _setProbesAndMasks(self):\n",
    "\n",
    "        self.probes_all_t = tf.constant([s.probe for s in self._sim.simulations_per_peak], dtype='complex64')\n",
    "\n",
    "        # After rotation (for the final projection), we can speed up the interpolation by only selecting\n",
    "        # the rotated coordinates that lie within the unrotated object box.\n",
    "        # The number of coordinates to interpolate can vary per bragg peak.\n",
    "        self._coords_rotated_masked_t = tf.constant(np.concatenate([s.nw_rotated_masked_delta_coords.T.flatten()\n",
    "                                                                    for s in self._sim.simulations_per_peak]),\n",
    "                                                    dtype='float32')\n",
    "        self._rotation_mask_indices_t = tf.constant(np.concatenate([s.nw_rotation_mask_delta_indices.flatten()\n",
    "                                                                    for s in self._sim.simulations_per_peak]),\n",
    "                                                    dtype='int32')\n",
    "    \n",
    "    def _setLocationIndices(self):\n",
    "        # These contain information about how to select the appropriate masked coordinates.\n",
    "        rotix_iloc_all = []\n",
    "        coords_iloc_all = []\n",
    "        for i, sim_per_peak in enumerate(self._sim.simulations_per_peak):\n",
    "            if i == 0:\n",
    "                s1 = 0\n",
    "            else:\n",
    "                s1 = coords_iloc_all[i - 1][0] + coords_iloc_all[i - 1][1]\n",
    "                s2 = rotix_iloc_all[i - 1][0] + rotix_iloc_all[i - 1][1]\n",
    "            coords_iloc_all.append([s1, sim_per_peak.nw_rotated_masked_delta_coords.T.size,\n",
    "                                    *sim_per_peak.nw_rotated_masked_delta_coords.T.shape])\n",
    "            rotix_iloc_all.append([s1, sim_per_peak.nw_rotation_mask_delta_indices.size,\n",
    "                                   *sim_per_peak.nw_rotation_mask_delta_indices.shape])\n",
    "        self._rotix_iloc_t = tf.constant(rotix_iloc_all, dtype='int32')\n",
    "        self._coords_iloc_t = tf.constant(coords_iloc_all, dtype='int32')\n",
    "\n",
    "    def _setSliceIndices(self):\n",
    "\n",
    "        # A lot of this slicing and dicing is aimed at avoiding expensive \"roll\" operations.\n",
    "        # I am reusing indices computed during the forward simulation fPor the recons as well.\n",
    "        #self._scan_probe_pads_t = tf.constant([s.probe_pads for s in self._sim.simulations_per_peak], dtype='int32')\n",
    "        #self._scan_probe_slice_indices_t = tf.constant([self._getStartStopIndicesFromSliceList(s.probe_slices)\n",
    "        #                                                for s in self._sim.simulations_per_peak], dtype='int32')\n",
    "        self._scan_probe_pads = [s.probe_pads for s in self._sim.simulations_per_peak]\n",
    "        self._scan_probe_slices = [s.probe_slices for s in self._sim.simulations_per_peak]\n",
    "        \n",
    "    @staticmethod\n",
    "    def _getStartStopIndicesFromSliceList(slice_list):\n",
    "        indices_list = []\n",
    "        for slice_y, slice_x in slice_list:\n",
    "            sy1 = slice_y.start\n",
    "            sy2 = slice_y.stop\n",
    "            sx1 = slice_x.start\n",
    "            sx2 = slice_x.stop\n",
    "            indices_list.append([sy1, sy2, sx1, sx2])\n",
    "        return indices_list\n",
    "    \n",
    "    def _setPhaseDisplacementInversionMatrix(self):\n",
    "        \"\"\"To solve an overdetermined linear system Ax = b, we can use the relation:\n",
    "        x = (A^T A)^(-1) A^T b.\n",
    "\n",
    "        This function calculates and stores the matrix (A^T A)^(-1) A^T  for the unwrapped phases -> displacement\n",
    "        transformation.\n",
    "        \"\"\"\n",
    "        hkl_matrix = np.array(self._sim.params.HKL_list)[:, :2]  # Ignoring the z components\n",
    "        inversion_matrix = np.linalg.inv(hkl_matrix.T @ hkl_matrix) @ hkl_matrix.T / (2 * np.pi)\n",
    "        self._displacement_invert_matrix_t = tf.constant(inversion_matrix, dtype='float32')\n",
    "    \n",
    "    \n",
    "    def getMagnitudes2d(self, magnitudes_log_v):\n",
    "        if self._shared_magnitudes:\n",
    "            mags_log_2d_profile = tf.reshape(magnitudes_log_v[:self._npix_xy], (self._npix_y, self._npix_x))\n",
    "            mags_scaling_vars = magnitudes_log_v[self._npix_xy:]\n",
    "            mags_scaling_all = tf.concat(([0.0], mags_scaling_vars), axis=0)\n",
    "            mags_log_2d_all = mags_log_2d_profile + mags_scaling_all[:, None, None]\n",
    "        else:\n",
    "            mags_log_2d_all = tf.reshape(magnitudes_log_v, (-1, self._npix_y, self._npix_x))\n",
    "\n",
    "        magnitudes_2d_all = tf.exp(mags_log_2d_all)\n",
    "        #magnitudes_2d_all = mags_log_2d_all\n",
    "        return magnitudes_2d_all\n",
    "\n",
    "    def getUxUy2d(self, ux_uy_2d_v):\n",
    "        ux_uy_2d_reshaped_t = tf.reshape(ux_uy_2d_v, (2, self._npix_y, self._npix_x))\n",
    "        ux_2d_t = ux_uy_2d_reshaped_t[0]\n",
    "        uy_2d_t = ux_uy_2d_reshaped_t[1]\n",
    "        return ux_2d_t, uy_2d_t\n",
    "\n",
    "    def _get2dPhasesFromDisplacements(self, Ux_t, Uy_t):\n",
    "        phases_all_t = []\n",
    "        for H, K, L in self._sim.params.HKL_list:\n",
    "            t1 = H * Ux_t + K * Uy_t #+ L * Uz_t\n",
    "            phase_t = 2 * np.pi * t1\n",
    "            phases_all_t.append(phase_t)\n",
    "        phases_all_t = tf.stack(phases_all_t)\n",
    "        return phases_all_t\n",
    "\n",
    "    def get2dPhasesFromDisplacementVars(self):\n",
    "        ux_2d_t, uy_2d_t = self.getUxUy2d(self.ux_uy_2d_v)\n",
    "        uz_2d_t = tf.zeros_like(ux_2d_t)\n",
    "        phases = self._get2dPhasesFromDisplacements(ux_2d_t, uy_2d_t)\n",
    "        return phases\n",
    "\n",
    "    def get2dRhoFromDisplacements(self, Ux_t, Uy_t, magnitudes_2d_t):\n",
    "        \"\"\"Calculate the magnitude and phase profile using the provided magnitudes and HKL list.\n",
    "\n",
    "        Sets the rhos for the sample class, and also returns the rhos.\n",
    "\n",
    "        Assumes that the displacements are normalized w.r.t. to the lattice constant, i.e.\n",
    "        Ux_t = Ux_t_actual / lattice[0]\n",
    "        Uy_t = Uy_t_actual / lattice[1]\n",
    "        Uz_t = Uz_t actual / lattice[2]\n",
    "\n",
    "        Parameters\n",
    "        ----------\n",
    "        ...\n",
    "        Returns\n",
    "        -------\n",
    "        \"\"\"\n",
    "\n",
    "        phases_all_t = self._get2dPhasesFromDisplacements(Ux_t, Uy_t)\n",
    "        rhos_all_t = tf.complex(magnitudes_2d_t * tf.cos(phases_all_t),\n",
    "                                magnitudes_2d_t * tf.sin(phases_all_t))\n",
    "        return rhos_all_t\n",
    "\n",
    "    def get3dRhoFromDisplacements(self, ux_uy_2d_v, magnitudes_log_v):\n",
    "        magnitudes_2d_all_t = self.getMagnitudes2d(magnitudes_log_v)\n",
    "\n",
    "        ux_2d_t, uy_2d_t = self.getUxUy2d(ux_uy_2d_v)\n",
    "        #uz_2d_t = tf.zeros_like(ux_2d_t)\n",
    "\n",
    "        rho_2d_cmplx_all_t = self.get2dRhoFromDisplacements(ux_2d_t, uy_2d_t, magnitudes_2d_all_t)\n",
    "        rho_3d_all_t = tf.ones(self._npix_z, dtype='complex64')[None, None, None, :] * rho_2d_cmplx_all_t[:, :, :, None]\n",
    "        rho_3d_bordered_all_t = tf.pad(rho_3d_all_t, [[0, 0],\n",
    "                                                      [self._pady0, self._nyr - self._pady0 - self._npix_y],\n",
    "                                                      [self._padx0, self._nxr - self._padx0 - self._npix_x],\n",
    "                                                      [self._padz0, self._nzr - self._padz0 - self._npix_z]])\n",
    "        return rho_3d_bordered_all_t\n",
    "\n",
    "    def get2dRhoFromPhases(self, phases_v, magnitudes_log_v):\n",
    "        magnitudes_2d_all_t = self.getMagnitudes2d(magnitudes_log_v)\n",
    "        phases_2d_t = tf.reshape(phases_v, [-1, self._npix_y, self._npix_x])\n",
    "        rho_2d_cmplx_all_t = tf.complex(magnitudes_2d_all_t * tf.math.cos(phases_2d_t),\n",
    "                                        magnitudes_2d_all_t * tf.math.sin(phases_2d_t))\n",
    "        return rho_2d_cmplx_all_t\n",
    "\n",
    "    def get3dRhoFromPhases(self, phases_v, magnitudes_log_v):\n",
    "        rho_2d_cmplx_all_t = self.get2dRhoFromPhases(phases_v, magnitudes_log_v)\n",
    "        rho_3d_all_t = tf.ones(self._npix_z, dtype='complex64')[None, None, None, :] * rho_2d_cmplx_all_t[:, :, :, None]\n",
    "        rho_3d_bordered_all_t = tf.pad(rho_3d_all_t, [[0, 0],\n",
    "                                                      [self._pady0, self._nyr - self._pady0 - self._npix_y],\n",
    "                                                      [self._padx0, self._nxr - self._padx0 - self._npix_x],\n",
    "                                                      [self._padz0, self._nzr - self._padz0 - self._npix_z]])\n",
    "        return rho_3d_bordered_all_t\n",
    "\n",
    "\n",
    "\n",
    "    def _getProjFtT(self, rho_3d_bordered_all_t, scan_index):\n",
    "        \"\"\"Output the projected diffraction pattern at the input scan index.\n",
    "\n",
    "        Parameters\n",
    "        ----------\n",
    "        scan_index_t : tensor(int)\n",
    "            This indicates the location of the selected diffraction pattern in the overall\n",
    "            large array containing all the diffraction patterns, for all the bragg peaks.\n",
    "        Returns\n",
    "        -------\n",
    "        out_t : tensor(float32)\n",
    "            This is the predicted diffraction pattern.\n",
    "        \"\"\"\n",
    "        #\n",
    "\n",
    "        # Identifying the appropriate bragg peak and ptychographic scan position for the given\n",
    "        # scan index\n",
    "        if self._has_scan_coords_per_peak:\n",
    "            bragg_index = tf.searchsorted(self._cum_positions_per_peak,\n",
    "                                          [tf.cast(scan_index, tf.int32)], side='right')[0]\n",
    "            scan_coord_index = scan_index % self._n_positions_per_peak[0]\n",
    "        else:\n",
    "            bragg_index = scan_index // len(self._sim.ptycho_scan_positions)\n",
    "            scan_coord_index = scan_index % len(self._sim.ptycho_scan_positions)\n",
    "        scan_coord_t = self._scan_coords_t[scan_coord_index]\n",
    "\n",
    "        # the y and x positions for the scan\n",
    "        pcy = scan_coord_t[0]\n",
    "        pcx = scan_coord_t[1]\n",
    "\n",
    "        # again, a lot the the slicing and dicing\n",
    "        probe_pad = self._scan_probe_pads[bragg_index][scan_coord_index]\n",
    "        probe_slice = self._scan_probe_slices[bragg_index][scan_coord_index]\n",
    "\n",
    "        # Slicing and reshaping to get the probe\n",
    "        probe_this = self.probes_all_t[bragg_index]\n",
    "        probe_this = tf.pad(probe_this, probe_pad, mode='constant')[probe_slice]\n",
    "        \n",
    "        \n",
    "        iloc1 = self._coords_iloc_t[bragg_index]\n",
    "        # getting the coordinates that we want to interpolate at.\n",
    "        coords_rotated_masked_this = tf.reshape(self._coords_rotated_masked_t[iloc1[0]: iloc1[0] + iloc1[1]], iloc1[2:])\n",
    "\n",
    "        iloc2 = self._rotix_iloc_t[bragg_index]\n",
    "        rotation_mask_indices_this = tf.reshape(self._rotation_mask_indices_t[iloc2[0]: iloc2[0] + iloc2[1]], iloc2[2:])[:, None]\n",
    "\n",
    "        # Getting the slice of the object numerical window that the probe interacts with and calculating\n",
    "        # the interaction.\n",
    "        rho_this = rho_3d_bordered_all_t[bragg_index]\n",
    "        field_view_t = rho_this * probe_this\n",
    "\n",
    "        # iinterpolation for the rotated coordinates that lie within the unrotated object.\n",
    "        rot_field_reals_t = tfp.math.batch_interp_regular_nd_grid(x=coords_rotated_masked_this,\n",
    "                                                                  x_ref_min=self._interp_x_ref_min_t,\n",
    "                                                                  x_ref_max=self._interp_x_ref_max_t,\n",
    "                                                                  y_ref=tf.math.real(field_view_t),\n",
    "                                                                  axis=0, fill_value=0)\n",
    "        rot_field_imag_t = tfp.math.batch_interp_regular_nd_grid(x=coords_rotated_masked_this,\n",
    "                                                                 x_ref_min=self._interp_x_ref_min_t,\n",
    "                                                                 x_ref_max=self._interp_x_ref_max_t,\n",
    "                                                                 y_ref=tf.math.imag(field_view_t),\n",
    "                                                                 axis=0, fill_value=0)\n",
    "\n",
    "        # since we only interpolate a small selection of the rotated coordinates, we need to\n",
    "        # fill the rest of the coordinates with 0.\n",
    "        field_rotated_real_t = tf.scatter_nd(indices=rotation_mask_indices_this,\n",
    "                                             updates=tf.reshape(rot_field_reals_t, [-1]),\n",
    "                                             shape=[tf.size(rho_this)])  # field_this.size])\n",
    "        field_rotated_imag_t = tf.scatter_nd(indices=rotation_mask_indices_this,\n",
    "                                             updates=tf.reshape(rot_field_imag_t, [-1]),\n",
    "                                             shape=[tf.size(rho_this)])  # field_this.size])\n",
    "        field_rotated_t = tf.complex(field_rotated_real_t, field_rotated_imag_t)\n",
    "\n",
    "        field_rotated_t = tf.reshape(field_rotated_t, tf.shape(rho_this))\n",
    "\n",
    "        # Project along the (rotated) z direction to get the exit wave.\n",
    "        projection_t = tf.reduce_sum(field_rotated_t, axis=2)\n",
    "        projection_sliced_t = projection_t[self._proj_slice]\n",
    "        proj_ft_t = tf.signal.fft2d(projection_sliced_t) / self._npix_det\n",
    "        out_t = tf.abs(proj_ft_t)\n",
    "        return out_t\n"
   ]
  },
  {
   "cell_type": "code",
   "execution_count": 321,
   "id": "0512363a",
   "metadata": {},
   "outputs": [],
   "source": [
    "class PhaseOnlyFullForwardModel(MultiReflectionBraggPtychoFwdModel):\n",
    "    def __init__(self, sim: Simulation,\n",
    "                 phases_init: np.ndarray=None,\n",
    "                 magnitudes_init:np.ndarray=None,\n",
    "                 magnitude_log_constraint_fn=None,\n",
    "                 shared_magnitudes: bool = True, **unused_kwargs):\n",
    "        super().__init__(sim)\n",
    "\n",
    "        self._shared_magnitudes = shared_magnitudes\n",
    "        self._addPhaseVariable(phases_init)\n",
    "        self._addMagnitudeVariable(magnitudes_init, magnitude_log_constraint_fn)\n",
    "\n",
    "    def predict(self, batch_input_v, phases_v, magnitudes_log_v):\n",
    "        return self._batchPredictFromPhasesMagnitudes(batch_input_v, phases_v, magnitudes_log_v)\n",
    "\n",
    "    def _batchPredictFromPhasesMagnitudes(self, batch_input_v, phases_v, magnitudes_log_v):\n",
    "        rho_3d_bordered_all_t = self.get3dRhoFromPhases(phases_v, magnitudes_log_v)\n",
    "        # Getting the predicted diffraction data. Using a map is faster than a for loop.\n",
    "        proj_map_fn = lambda indx: self._getProjFtT(rho_3d_bordered_all_t, indx)\n",
    "        batch_predictions_t = tf.map_fn(proj_map_fn,\n",
    "                                        batch_input_v,\n",
    "                                        dtype=tf.float32)\n",
    "        out = tf.reshape(batch_predictions_t, [-1])\n",
    "        return out"
   ]
  },
  {
   "cell_type": "code",
   "execution_count": 322,
   "id": "d544ac62",
   "metadata": {},
   "outputs": [],
   "source": [
    "rho_init = sm.simulations_per_peak[0].rho[sm.sample.obj_mask_w_delta > 0].reshape([95, 147, -1])[...,10]"
   ]
  },
  {
   "cell_type": "code",
   "execution_count": 323,
   "id": "a9782f3a",
   "metadata": {},
   "outputs": [],
   "source": [
    "m = PhaseOnlyFullForwardModel(sm, phases_init=np.angle(rho_init.flatten()), magnitudes_init=np.abs(rho_init.flatten()))"
   ]
  },
  {
   "cell_type": "code",
   "execution_count": 319,
   "id": "a41bf284",
   "metadata": {},
   "outputs": [],
   "source": [
    "field, proj, proj_slice, diff = list(map(np.array, m._getProjFtT(rho_3d, 1)))"
   ]
  },
  {
   "cell_type": "code",
   "execution_count": 327,
   "id": "c93a34f4",
   "metadata": {},
   "outputs": [],
   "source": [
    "rho_3d = m.get3dRhoFromPhases(m.phases_v, m.magnitudes_log_v)"
   ]
  },
  {
   "cell_type": "code",
   "execution_count": 329,
   "id": "51c93437",
   "metadata": {},
   "outputs": [],
   "source": [
    "diffs = np.array([m._getProjFtT(rho_3d, i) for i in range(4)])"
   ]
  },
  {
   "cell_type": "code",
   "execution_count": 332,
   "id": "1222c72e",
   "metadata": {},
   "outputs": [
    {
     "data": {
      "text/plain": [
       "0.008872907044764776"
      ]
     },
     "execution_count": 332,
     "metadata": {},
     "output_type": "execute_result"
    }
   ],
   "source": [
    "np.abs(diffs - sm.simulations_per_peak[0].diffraction_patterns**0.5).sum()"
   ]
  },
  {
   "cell_type": "code",
   "execution_count": 301,
   "id": "0d3e3b90",
   "metadata": {},
   "outputs": [],
   "source": [
    "sfield = sm.simulations_per_peak[0].fields_before_rotation[0]\n",
    "sprojslice = sm.simulations_per_peak[0].projection_slices_all[0]"
   ]
  },
  {
   "cell_type": "code",
   "execution_count": 305,
   "id": "b90bc3fb",
   "metadata": {},
   "outputs": [
    {
     "data": {
      "text/plain": [
       "(array([0., 0.]), 0.00019615097705374238, -5.8085046e-08)"
      ]
     },
     "execution_count": 305,
     "metadata": {},
     "output_type": "execute_result"
    }
   ],
   "source": [
    "phase_cross_correlation(proj_slice, sprojslice)"
   ]
  },
  {
   "cell_type": "code",
   "execution_count": 306,
   "id": "e6cccd7b",
   "metadata": {},
   "outputs": [
    {
     "data": {
      "text/plain": [
       "(2170.4138, 2170.413)"
      ]
     },
     "execution_count": 306,
     "metadata": {},
     "output_type": "execute_result"
    }
   ],
   "source": [
    "np.abs(field).sum(), np.abs(sfield).sum()"
   ]
  },
  {
   "cell_type": "code",
   "execution_count": 307,
   "id": "298c5013",
   "metadata": {},
   "outputs": [
    {
     "data": {
      "text/plain": [
       "0.0005473867"
      ]
     },
     "execution_count": 307,
     "metadata": {},
     "output_type": "execute_result"
    }
   ],
   "source": [
    "np.abs(field - sfield).sum()"
   ]
  },
  {
   "cell_type": "code",
   "execution_count": 308,
   "id": "2467b939",
   "metadata": {},
   "outputs": [],
   "source": [
    "sproj = sm.simulations_per_peak[0].projection_all[0]"
   ]
  },
  {
   "cell_type": "code",
   "execution_count": 309,
   "id": "1653b057",
   "metadata": {},
   "outputs": [
    {
     "data": {
      "text/plain": [
       "(array([0., 0.]), 0.00034845775995505276, 2.5155576972541346e-16)"
      ]
     },
     "execution_count": 309,
     "metadata": {},
     "output_type": "execute_result"
    }
   ],
   "source": [
    "phase_cross_correlation(np.real(proj), np.real(sproj))"
   ]
  },
  {
   "cell_type": "code",
   "execution_count": 315,
   "id": "4f4b92d3",
   "metadata": {},
   "outputs": [
    {
     "data": {
      "text/plain": [
       "(150, 150)"
      ]
     },
     "execution_count": 315,
     "metadata": {},
     "output_type": "execute_result"
    }
   ],
   "source": [
    "diff.shape"
   ]
  },
  {
   "cell_type": "code",
   "execution_count": 312,
   "id": "18c78104",
   "metadata": {},
   "outputs": [],
   "source": [
    "a1 = np.fft.fftshift(diff)"
   ]
  },
  {
   "cell_type": "code",
   "execution_count": 316,
   "id": "3c42a92b",
   "metadata": {},
   "outputs": [],
   "source": [
    "a2 = np.fft.fftshift(sm.simulations_per_peak[0].diffraction_patterns[0])**0.5"
   ]
  },
  {
   "cell_type": "code",
   "execution_count": 317,
   "id": "068c9598",
   "metadata": {},
   "outputs": [
    {
     "data": {
      "text/plain": [
       "(0.0022322671323782173, 778.6802, 778.6799807427859)"
      ]
     },
     "execution_count": 317,
     "metadata": {},
     "output_type": "execute_result"
    }
   ],
   "source": [
    "np.abs(a1 - a2).sum(), np.abs(a1).sum(), np.abs(a2).sum()"
   ]
  },
  {
   "cell_type": "code",
   "execution_count": 318,
   "id": "735ca05f",
   "metadata": {},
   "outputs": [
    {
     "data": {
      "image/png": "[encoded data removed]",
      "text/plain": [
       "<Figure size 432x288 with 2 Axes>"
      ]
     },
     "metadata": {
      "needs_background": "light"
     },
     "output_type": "display_data"
    },
    {
     "data": {
      "image/png": "[encoded data removed]",
      "text/plain": [
       "<Figure size 432x288 with 2 Axes>"
      ]
     },
     "metadata": {
      "needs_background": "light"
     },
     "output_type": "display_data"
    }
   ],
   "source": [
    "plt.pcolormesh(a1)\n",
    "plt.colorbar()\n",
    "plt.show()\n",
    "plt.pcolormesh(a2)\n",
    "plt.colorbar()\n",
    "plt.show()"
   ]
  },
  {
   "cell_type": "code",
   "execution_count": 251,
   "id": "4029ee01",
   "metadata": {},
   "outputs": [
    {
     "data": {
      "image/png": "[encoded data removed]",
      "text/plain": [
       "<Figure size 432x288 with 1 Axes>"
      ]
     },
     "metadata": {
      "needs_background": "light"
     },
     "output_type": "display_data"
    }
   ],
   "source": [
    "plt.pcolormesh(a1 - a2)\n",
    "plt.show()"
   ]
  },
  {
   "cell_type": "code",
   "execution_count": 103,
   "id": "cecdb004",
   "metadata": {},
   "outputs": [
    {
     "data": {
      "text/plain": [
       "((232998,), (3, 232998))"
      ]
     },
     "execution_count": 103,
     "metadata": {},
     "output_type": "execute_result"
    }
   ],
   "source": [
    "sm.simulations_per_peak[0].nw_rotation_mask_delta_indices.shape, sm.simulations_per_peak[0].nw_rotated_masked_delta_coords.shape"
   ]
  },
  {
   "cell_type": "code",
   "execution_count": 79,
   "id": "af28ee96",
   "metadata": {},
   "outputs": [
    {
     "data": {
      "text/plain": [
       "[[[[0, 0], [0, 0], [0, 0]]]]"
      ]
     },
     "execution_count": 79,
     "metadata": {},
     "output_type": "execute_result"
    }
   ],
   "source": [
    "m._scan_probe_pads"
   ]
  },
  {
   "cell_type": "code",
   "execution_count": 71,
   "id": "3fd636ad",
   "metadata": {},
   "outputs": [
    {
     "data": {
      "text/plain": [
       "<tf.Variable 'magnitudes_log_v:0' shape=(95, 147) dtype=float32, numpy=\n",
       "array([[-16.118095, -16.118095, -16.118095, ..., -16.118095, -16.118095,\n",
       "        -16.118095],\n",
       "       [-16.118095, -16.118095, -16.118095, ..., -16.118095, -16.118095,\n",
       "        -16.118095],\n",
       "       [-16.118095, -16.118095, -16.118095, ..., -16.118095, -16.118095,\n",
       "        -16.118095],\n",
       "       ...,\n",
       "       [-16.118095, -16.118095, -16.118095, ..., -16.118095, -16.118095,\n",
       "        -16.118095],\n",
       "       [-16.118095, -16.118095, -16.118095, ..., -16.118095, -16.118095,\n",
       "        -16.118095],\n",
       "       [-16.118095, -16.118095, -16.118095, ..., -16.118095, -16.118095,\n",
       "        -16.118095]], dtype=float32)>"
      ]
     },
     "execution_count": 71,
     "metadata": {},
     "output_type": "execute_result"
    }
   ],
   "source": [
    "m.magnitudes_log_v"
   ]
  },
  {
   "cell_type": "code",
   "execution_count": 74,
   "id": "b430da79",
   "metadata": {},
   "outputs": [],
   "source": [
    "batch_v = tf.constant([0])"
   ]
  },
  {
   "cell_type": "code",
   "execution_count": 52,
   "id": "f0cadb6d",
   "metadata": {},
   "outputs": [
    {
     "data": {
      "text/plain": [
       "{'phases': <tf.Variable 'phases:0' shape=(13965,) dtype=float32, numpy=array([0., 0., 0., ..., 0., 0., 0.], dtype=float32)>,\n",
       " 'magnitudes_log_v': <tf.Variable 'magnitudes_log_v:0' shape=(13965,) dtype=float32, numpy=\n",
       " array([-16.118095, -16.118095, -16.118095, ..., -16.118095, -16.118095,\n",
       "        -16.118095], dtype=float32)>}"
      ]
     },
     "execution_count": 52,
     "metadata": {},
     "output_type": "execute_result"
    }
   ],
   "source": [
    "m.variables"
   ]
  },
  {
   "cell_type": "code",
   "execution_count": null,
   "id": "2a1f508d",
   "metadata": {},
   "outputs": [],
   "source": []
  },
  {
   "cell_type": "code",
   "execution_count": 36,
   "id": "155aaa35",
   "metadata": {},
   "outputs": [
    {
     "data": {
      "text/plain": [
       "(85, 95)"
      ]
     },
     "execution_count": 36,
     "metadata": {},
     "output_type": "execute_result"
    }
   ],
   "source": [
    "sm.sample.obj_mask_full[:,100,50].sum(), sm.sample.obj_mask_w_delta[:,100,50].sum()"
   ]
  },
  {
   "cell_type": "code",
   "execution_count": 38,
   "id": "1e358c3e",
   "metadata": {},
   "outputs": [
    {
     "data": {
      "text/plain": [
       "(53, 95)"
      ]
     },
     "execution_count": 38,
     "metadata": {},
     "output_type": "execute_result"
    }
   ],
   "source": [
    "m._pady0, m._npix_y"
   ]
  },
  {
   "cell_type": "code",
   "execution_count": null,
   "id": "b875255b",
   "metadata": {},
   "outputs": [],
   "source": []
  },
  {
   "cell_type": "code",
   "execution_count": 26,
   "id": "5ed06522",
   "metadata": {},
   "outputs": [],
   "source": [
    "arr = tf.constant([1.0, 2.0])"
   ]
  },
  {
   "cell_type": "code",
   "execution_count": 27,
   "id": "5c710691",
   "metadata": {},
   "outputs": [],
   "source": [
    "s1 = np.s_[0:2]"
   ]
  },
  {
   "cell_type": "code",
   "execution_count": 29,
   "id": "41e77744",
   "metadata": {},
   "outputs": [
    {
     "data": {
      "text/plain": [
       "<tf.Tensor: shape=(2,), dtype=float32, numpy=array([1., 2.], dtype=float32)>"
      ]
     },
     "execution_count": 29,
     "metadata": {},
     "output_type": "execute_result"
    }
   ],
   "source": [
    "arr[s1]"
   ]
  },
  {
   "cell_type": "code",
   "execution_count": null,
   "id": "994ceb0c",
   "metadata": {},
   "outputs": [],
   "source": [
    "class MultiReflectionBraggPtychoFwdModel(abc.ABC):\n",
    "\n",
    "    @abc.abstractmethod\n",
    "    def __init__(self, sim: Simulation):\n",
    "        self._sim = sim\n",
    "        self.variables = {}\n",
    "\n",
    "        self._setPixelsAndPads()\n",
    "        with tf.device('/gpu:0'):\n",
    "            self._coords_t = tf.constant(self._sim.simulations_per_peak[0].nw_coords_stacked, dtype='float32')\n",
    "            self._setScanCoords()\n",
    "\n",
    "            self._setInterpolationLimits()\n",
    "            self._setProbesAndMasks()\n",
    "            self._setLocationIndices()\n",
    "            self._setSliceIndices()\n",
    "\n",
    "            self._setPhaseDisplacementInversionMatrix()\n",
    "\n",
    "    def _setScanCoords(self):\n",
    "\n",
    "        if hasattr(self._sim.simulations_per_peak[0], \"ptycho_scan_positions\"):\n",
    "            self._has_scan_coords_per_peak = True\n",
    "            self._n_positions_per_peak = [s.ptycho_scan_positions.shape[0] for s in self._sim.simulations_per_peak]\n",
    "            self._cum_positions_per_peak = tf.math.cumsum(self._n_positions_per_peak)\n",
    "            self._scan_coords_t = tf.constant(np.concatenate([s.ptycho_scan_positions\n",
    "                                                              for s in self._sim.simulations_per_peak],\n",
    "                                                             axis=0),\n",
    "                                              dtype='int32')\n",
    "        else:\n",
    "            raise\n",
    "            self._has_scan_coords_per_peak = False\n",
    "            self._scan_coords_t = tf.constant(self._sim.ptycho_scan_positions, dtype='int32')\n",
    "\n",
    "\n",
    "    def _addMagnitudeVariable(self, magnitudes_init=None, magnitude_log_constraint_fn=None):\n",
    "        if self._shared_magnitudes:\n",
    "            size = self._npix_xy + self._sim.params.HKL_list.shape[0] - 1\n",
    "        else:\n",
    "            size = self._npix_xy * self._sim.params.HKL_list.shape[0]\n",
    "\n",
    "        if magnitudes_init is None:\n",
    "            magnitudes_init = np.zeros(size, dtype='float32')\n",
    "        else:\n",
    "            if magnitudes_init.size != size:\n",
    "                raise ValueError(\"magnitude initialization supplied is not valid\")\n",
    "\n",
    "        magnitudes_init_logs = np.log(magnitudes_init + 1e-7)\n",
    "        #magnitudes_init_logs = magnitudes_init\n",
    "        with tf.device('/gpu:0'):\n",
    "            self.magnitudes_log_v = tf.Variable(magnitudes_init_logs,\n",
    "                                           constraint=magnitude_log_constraint_fn,\n",
    "                                           dtype='float32',\n",
    "                                           name='magnitudes_log_v')\n",
    "        self.variables['magnitudes_log_v'] =  self.magnitudes_log_v\n",
    "\n",
    "    def _addDisplacementVariable(self, ux_uy_init=None):\n",
    "        if ux_uy_init is None:\n",
    "            ux_uy_init = np.ones(self._npix_xy * 2)\n",
    "        else:\n",
    "            if len(ux_uy_init.shape) != 1:\n",
    "                raise ValueError(\"Supply a flat 1d array for the initialization.\")\n",
    "        with tf.device('/gpu:0'):\n",
    "            self.ux_uy_2d_v = tf.Variable(ux_uy_init, dtype='float32', name='ux_uy')\n",
    "        self.variables['ux_uy_2d_v'] = self.ux_uy_2d_v\n",
    "\n",
    "    def _addPhaseVariable(self, phases_init=None):\n",
    "\n",
    "        if phases_init is None:\n",
    "            phases_init = np.zeros(self._npix_xy * self._sim.params.HKL_list.shape[0])\n",
    "\n",
    "        with tf.device('/gpu:0'):\n",
    "            self.phases_v = tf.Variable(phases_init, dtype='float32', name='phases')\n",
    "        self.variables['phases'] = self.phases_v\n",
    "\n",
    "\n",
    "\n",
    "    def _setPixelsAndPads(self):\n",
    "        self._npix_x = np.sum(np.sum(self._sim.sample.obj_mask_w_delta, axis=(0, 2)) > 0)\n",
    "        self._npix_y = np.sum(np.sum(self._sim.sample.obj_mask_w_delta, axis=(1, 2)) > 0)\n",
    "        self._npix_z = np.sum(np.sum(self._sim.sample.obj_mask_w_delta, axis=(0, 1)) > 0)\n",
    "\n",
    "        self._npix_xy = self._npix_x * self._npix_y\n",
    "\n",
    "        self._nyr, self._nxr, self._nzr = self._sim.rhos[0].shape\n",
    "        self._pady0 = np.where(self._sim.sample.obj_mask_w_delta.sum(axis=(1, 2)))[0][0]\n",
    "        self._padx0 = np.where(self._sim.sample.obj_mask_w_delta.sum(axis=(0, 2)))[0][0]\n",
    "        self._padz0 = np.where(self._sim.sample.obj_mask_w_delta.sum(axis=(0, 1)))[0][0]\n",
    "\n",
    "    def _setInterpolationLimits(self):\n",
    "        # These arrays indicate the limits of the interpolation before the bragg projection.\n",
    "        self._interp_x_ref_min_t = tf.constant([self._sim.sample.y_full[0],\n",
    "                                                self._sim.sample.x_full[0],\n",
    "                                                self._sim.sample.z_full[0]], dtype='float32')\n",
    "        self._interp_x_ref_max_t = tf.constant([self._sim.sample.y_full[-1],\n",
    "                                                self._sim.sample.x_full[-1],\n",
    "                                                self._sim.sample.z_full[-1]], dtype='float32')\n",
    "\n",
    "\n",
    "    def _setProbesAndMasks(self):\n",
    "        # This is a workaround bc the different arrays for the different siulations might not necessarily\n",
    "        # have the same number of elements. Tensorflow doesn't handle that well.\n",
    "        # ------------------------------------------------------------------------------------------------\n",
    "        # Since I have truncated probe structures for efficiency reasons, they are not of the same 3d shape\n",
    "        # for the different bragg peaks.\n",
    "        self.probes_all_t = tf.constant(np.concatenate([s.probe.flatten() for s in\n",
    "                                                        self._sim.simulations_per_peak]),\n",
    "                                        dtype='complex64')\n",
    "\n",
    "        # After rotation (for the final projection), we can speed up the interpolation by only selecting\n",
    "        # the rotated coordinates that lie within the unrotated object box.\n",
    "        # The number of coordinates to interpolate can vary per bragg peak.\n",
    "        self._coords_rotated_masked_t = tf.constant(np.concatenate([s.nw_rotated_masked_coords.T.flatten()\n",
    "                                                                    for s in self._sim.simulations_per_peak]),\n",
    "                                                    dtype='float32')\n",
    "        self._rotation_mask_indices_t = tf.constant(np.concatenate([s.nw_rotation_mask_indices.flatten()\n",
    "                                                                    for s in self._sim.simulations_per_peak]),\n",
    "                                                    dtype='int32')\n",
    "\n",
    "    def _setLocationIndices(self):\n",
    "        # These contain information about how to select the appropriate probe, etc.\n",
    "        probes_iloc_all = []\n",
    "        coords_iloc_all = []\n",
    "        rotix_iloc_all = []\n",
    "        for i, sim_per_peak in enumerate(self._sim.simulations_per_peak):\n",
    "            if i == 0:\n",
    "                s1 = 0\n",
    "                s2 = 0\n",
    "                s3 = 0\n",
    "            else:\n",
    "                s1 = probes_iloc_all[i - 1][0] + probes_iloc_all[i - 1][1]\n",
    "                s2 = coords_iloc_all[i - 1][0] + coords_iloc_all[i - 1][1]\n",
    "                s3 = rotix_iloc_all[i - 1][0] + rotix_iloc_all[i - 1][1]\n",
    "            probes_iloc_all.append([s1, sim_per_peak.probe.size, *sim_per_peak.probe.shape])\n",
    "            coords_iloc_all.append([s2, sim_per_peak.nw_rotated_masked_coords.T.size,\n",
    "                                    *sim_per_peak.nw_rotated_masked_coords.T.shape])\n",
    "            rotix_iloc_all.append([s3, sim_per_peak.nw_rotation_mask_indices.size,\n",
    "                                   *sim_per_peak.nw_rotation_mask_indices.shape])\n",
    "        self._probes_iloc_t = tf.constant(probes_iloc_all, dtype='int32')\n",
    "        self._coords_iloc_t = tf.constant(coords_iloc_all, dtype='int32')\n",
    "        self._rotix_iloc_t = tf.constant(rotix_iloc_all, dtype='int32')\n",
    "\n",
    "    def _setSliceIndices(self):\n",
    "\n",
    "        # A lot of this slicing and dicing is aimed at avoiding expensive \"roll\" operations.\n",
    "        # I am reusing indices computed during the forward simulation for the recons as well.\n",
    "        self._scan_rho_slice_indices_t = tf.constant([self._getStartStopIndicesFromSliceList(s.rho_slices)\n",
    "                                                      for s in self._sim.simulations_per_peak], dtype='int32')\n",
    "        self._scan_probe_slice_indices_t = tf.constant([self._getStartStopIndicesFromSliceList(s.probe_slices)\n",
    "                                                        for s in self._sim.simulations_per_peak], dtype='int32')\n",
    "        self._scan_proj_slice_indices_t = tf.constant([self._getStartStopIndicesFromSliceList(s.proj_slices)\n",
    "                                                       for s in self._sim.simulations_per_peak], dtype='int32')\n",
    "\n",
    "    def _setPhaseDisplacementInversionMatrix(self):\n",
    "        \"\"\"To solve an overdetermined linear system Ax = b, we can use the relation:\n",
    "        x = (A^T A)^(-1) A^T b.\n",
    "\n",
    "        This function calculates and stores the matrix (A^T A)^(-1) A^T  for the unwrapped phases -> displacement\n",
    "        transformation.\n",
    "        \"\"\"\n",
    "        hkl_matrix = np.array(self._sim.params.HKL_list)[:, :2]  # Ignoring the z components\n",
    "        inversion_matrix = np.linalg.inv(hkl_matrix.T @ hkl_matrix) @ hkl_matrix.T / (2 * np.pi)\n",
    "        self._displacement_invert_matrix_t = tf.constant(inversion_matrix, dtype='float32')\n",
    "\n",
    "    @staticmethod\n",
    "    def _getStartStopIndicesFromSliceList(slice_list):\n",
    "        indices_list = []\n",
    "        for slice_y, slice_x in slice_list:\n",
    "            sy1 = slice_y.start\n",
    "            sy2 = slice_y.stop\n",
    "            sx1 = slice_x.start\n",
    "            sx2 = slice_x.stop\n",
    "            indices_list.append([sy1, sy2, sx1, sx2])\n",
    "        return indices_list\n",
    "\n",
    "    def getMagnitudes2d(self, magnitudes_log_v):\n",
    "        if self._shared_magnitudes:\n",
    "            mags_log_2d_profile = tf.reshape(magnitudes_log_v[:self._npix_xy], (self._npix_y, self._npix_x))\n",
    "            mags_scaling_vars = magnitudes_log_v[self._npix_xy:]\n",
    "            mags_scaling_all = tf.concat(([0.0], mags_scaling_vars), axis=0)\n",
    "            mags_log_2d_all = mags_log_2d_profile + mags_scaling_all[:, None, None]\n",
    "        else:\n",
    "            mags_log_2d_all = tf.reshape(magnitudes_log_v, (-1, self._npix_y, self._npix_x))\n",
    "\n",
    "        magnitudes_2d_all = tf.exp(mags_log_2d_all)\n",
    "        #magnitudes_2d_all = mags_log_2d_all\n",
    "        return magnitudes_2d_all\n",
    "\n",
    "    def getUxUy2d(self, ux_uy_2d_v):\n",
    "        ux_uy_2d_reshaped_t = tf.reshape(ux_uy_2d_v, (2, self._npix_y, self._npix_x))\n",
    "        ux_2d_t = ux_uy_2d_reshaped_t[0]\n",
    "        uy_2d_t = ux_uy_2d_reshaped_t[1]\n",
    "        return ux_2d_t, uy_2d_t\n",
    "\n",
    "    def _get2dPhasesFromDisplacements(self, Ux_t, Uy_t):\n",
    "        phases_all_t = []\n",
    "        for H, K, L in self._sim.params.HKL_list:\n",
    "            t1 = H * Ux_t + K * Uy_t #+ L * Uz_t\n",
    "            phase_t = 2 * np.pi * t1\n",
    "            phases_all_t.append(phase_t)\n",
    "        phases_all_t = tf.stack(phases_all_t)\n",
    "        return phases_all_t\n",
    "\n",
    "    def get2dPhasesFromDisplacementVars(self):\n",
    "        ux_2d_t, uy_2d_t = self.getUxUy2d(self.ux_uy_2d_v)\n",
    "        uz_2d_t = tf.zeros_like(ux_2d_t)\n",
    "        phases = self._get2dPhasesFromDisplacements(ux_2d_t, uy_2d_t)\n",
    "        return phases\n",
    "\n",
    "    def get2dRhoFromDisplacements(self, Ux_t, Uy_t, magnitudes_2d_t):\n",
    "        \"\"\"Calculate the magnitude and phase profile using the provided magnitudes and HKL list.\n",
    "\n",
    "        Sets the rhos for the sample class, and also returns the rhos.\n",
    "\n",
    "        Assumes that the displacements are normalized w.r.t. to the lattice constant, i.e.\n",
    "        Ux_t = Ux_t_actual / lattice[0]\n",
    "        Uy_t = Uy_t_actual / lattice[1]\n",
    "        Uz_t = Uz_t actual / lattice[2]\n",
    "\n",
    "        Parameters\n",
    "        ----------\n",
    "        ...\n",
    "        Returns\n",
    "        -------\n",
    "        \"\"\"\n",
    "\n",
    "        phases_all_t = self._get2dPhasesFromDisplacements(Ux_t, Uy_t)\n",
    "        rhos_all_t = tf.complex(magnitudes_2d_t * tf.cos(phases_all_t),\n",
    "                                magnitudes_2d_t * tf.sin(phases_all_t))\n",
    "        return rhos_all_t\n",
    "\n",
    "    def get3dRhoFromDisplacements(self, ux_uy_2d_v, magnitudes_log_v):\n",
    "        magnitudes_2d_all_t = self.getMagnitudes2d(magnitudes_log_v)\n",
    "\n",
    "        ux_2d_t, uy_2d_t = self.getUxUy2d(ux_uy_2d_v)\n",
    "        #uz_2d_t = tf.zeros_like(ux_2d_t)\n",
    "\n",
    "        rho_2d_cmplx_all_t = self.get2dRhoFromDisplacements(ux_2d_t, uy_2d_t, magnitudes_2d_all_t)\n",
    "        rho_3d_all_t = tf.ones(self._npix_z, dtype='complex64')[None, None, None, :] * rho_2d_cmplx_all_t[:, :, :, None]\n",
    "        rho_3d_bordered_all_t = tf.pad(rho_3d_all_t, [[0, 0],\n",
    "                                                      [self._pady0, self._nyr - self._pady0 - self._npix_y],\n",
    "                                                      [self._padx0, self._nxr - self._padx0 - self._npix_x],\n",
    "                                                      [self._padz0, self._nzr - self._padz0 - self._npix_z]])\n",
    "        return rho_3d_bordered_all_t\n",
    "\n",
    "    def get2dRhoFromPhases(self, phases_v, magnitudes_log_v):\n",
    "        magnitudes_2d_all_t = self.getMagnitudes2d(magnitudes_log_v)\n",
    "        phases_2d_t = tf.reshape(phases_v, [-1, self._npix_y, self._npix_x])\n",
    "        rho_2d_cmplx_all_t = tf.complex(magnitudes_2d_all_t * tf.math.cos(phases_2d_t),\n",
    "                                        magnitudes_2d_all_t * tf.math.sin(phases_2d_t))\n",
    "        return rho_2d_cmplx_all_t\n",
    "\n",
    "    def get3dRhoFromPhases(self, phases_v, magnitudes_log_v):\n",
    "        rho_2d_cmplx_all_t = self.get2dRhoFromPhases(phases_v, magnitudes_log_v)\n",
    "        rho_3d_all_t = tf.ones(self._npix_z, dtype='complex64')[None, None, None, :] * rho_2d_cmplx_all_t[:, :, :, None]\n",
    "        rho_3d_bordered_all_t = tf.pad(rho_3d_all_t, [[0, 0],\n",
    "                                                      [self._pady0, self._nyr - self._pady0 - self._npix_y],\n",
    "                                                      [self._padx0, self._nxr - self._padx0 - self._npix_x],\n",
    "                                                      [self._padz0, self._nzr - self._padz0 - self._npix_z]])\n",
    "        return rho_3d_bordered_all_t\n",
    "\n",
    "\n",
    "\n",
    "    def _getProjFtT(self, rho_3d_bordered_all_t, scan_index):\n",
    "        \"\"\"Output the projected diffraction pattern at the input scan index.\n",
    "\n",
    "        Parameters\n",
    "        ----------\n",
    "        scan_index_t : tensor(int)\n",
    "            This indicates the location of the selected diffraction pattern in the overall\n",
    "            large array containing all the diffraction patterns, for all the bragg peaks.\n",
    "        Returns\n",
    "        -------\n",
    "        out_t : tensor(float32)\n",
    "            This is the predicted diffraction pattern.\n",
    "        \"\"\"\n",
    "        #\n",
    "\n",
    "        # Identifying the appropriate bragg peak and ptychographic scan position for the given\n",
    "        # scan index\n",
    "        if self._has_scan_coords_per_peak:\n",
    "            bragg_index = tf.searchsorted(self._cum_positions_per_peak,\n",
    "                                          [tf.cast(scan_index, tf.int32)], side='right')[0]\n",
    "            scan_coord_index = scan_index % self._n_positions_per_peak[0]\n",
    "        else:\n",
    "            bragg_index = scan_index // len(self._sim.ptycho_scan_positions)\n",
    "            scan_coord_index = scan_index % len(self._sim.ptycho_scan_positions)\n",
    "        scan_coord_t = self._scan_coords_t[scan_coord_index]\n",
    "\n",
    "        # the y and x positions for the scan\n",
    "        pcy = scan_coord_t[0]\n",
    "        pcx = scan_coord_t[1]\n",
    "\n",
    "        # again, a lot the the slicing and dicing\n",
    "        rho_slice = self._scan_rho_slice_indices_t[bragg_index, scan_coord_index]\n",
    "        proj_slice = self._scan_proj_slice_indices_t[bragg_index, scan_coord_index]\n",
    "        probe_slice = self._scan_probe_slice_indices_t[bragg_index, scan_coord_index]\n",
    "\n",
    "        iloc1 = self._probes_iloc_t[bragg_index]\n",
    "        # Slicing and reshaping to get the probe\n",
    "        probe_this = tf.reshape(self.probes_all_t[iloc1[0]: iloc1[0] + iloc1[1]], iloc1[2:])\n",
    "\n",
    "        iloc2 = self._coords_iloc_t[bragg_index]\n",
    "        # getting the coordinates that we want to interpolate at.\n",
    "        coords_rotated_masked_this = tf.reshape(self._coords_rotated_masked_t[iloc2[0]: iloc2[0] + iloc2[1]],\n",
    "                                                iloc2[2:])\n",
    "\n",
    "        iloc3 = self._rotix_iloc_t[bragg_index]\n",
    "        rotation_mask_indices_this = tf.reshape(self._rotation_mask_indices_t[iloc3[0]: iloc3[0] + iloc3[1]],\n",
    "                                                iloc3[2:])[:, None]\n",
    "\n",
    "        # Getting the slice of the object numerical window that the probe interacts with and calculating\n",
    "        # the interaction.\n",
    "        rho_this = rho_3d_bordered_all_t[bragg_index]\n",
    "        field_view_t = (rho_this[rho_slice[0]: rho_slice[1], rho_slice[2]:rho_slice[3]]\n",
    "                        * probe_this[probe_slice[0]: probe_slice[1], probe_slice[2]: probe_slice[3]])\n",
    "\n",
    "        # setting the field everywhere else to 0.\n",
    "        field_view_padded_t = tf.pad(field_view_t, [[rho_slice[0], 200 - rho_slice[1]],\n",
    "                                                    [rho_slice[2], 200 - rho_slice[3]],\n",
    "                                                    [0, 0]],\n",
    "                                     mode='constant')\n",
    "\n",
    "        # iinterpolation for the rotated coordinates that lie within the unrotated object.\n",
    "        rot_field_reals_t = tfp.math.batch_interp_regular_nd_grid(x=coords_rotated_masked_this,\n",
    "                                                                  x_ref_min=self._interp_x_ref_min_t,\n",
    "                                                                  x_ref_max=self._interp_x_ref_max_t,\n",
    "                                                                  y_ref=tf.math.real(field_view_padded_t),\n",
    "                                                                  axis=0, fill_value=0)\n",
    "        rot_field_imag_t = tfp.math.batch_interp_regular_nd_grid(x=coords_rotated_masked_this,\n",
    "                                                                 x_ref_min=self._interp_x_ref_min_t,\n",
    "                                                                 x_ref_max=self._interp_x_ref_max_t,\n",
    "                                                                 y_ref=tf.math.imag(field_view_padded_t),\n",
    "                                                                 axis=0, fill_value=0)\n",
    "\n",
    "        # since we only interpolate a small selection of the rotated coordinates, we need to\n",
    "        # fill the rest of the coordinates with 0.\n",
    "        field_rotated_real_t = tf.scatter_nd(indices=rotation_mask_indices_this,\n",
    "                                             updates=tf.reshape(rot_field_reals_t, [-1]),\n",
    "                                             shape=[tf.size(rho_this)])  # field_this.size])\n",
    "        field_rotated_imag_t = tf.scatter_nd(indices=rotation_mask_indices_this,\n",
    "                                             updates=tf.reshape(rot_field_imag_t, [-1]),\n",
    "                                             shape=[tf.size(rho_this)])  # field_this.size])\n",
    "        field_rotated_t = tf.complex(field_rotated_real_t, field_rotated_imag_t)\n",
    "\n",
    "        field_rotated_t = tf.reshape(field_rotated_t, tf.shape(rho_this))\n",
    "\n",
    "        # Project along the (rotated) z direction to get the exit wave.\n",
    "        projection_t = tf.reduce_sum(field_rotated_t, axis=2)\n",
    "        projection_t = projection_t[proj_slice[0]:proj_slice[1], proj_slice[2]:proj_slice[3]]\n",
    "        proj_ft_t = tf.signal.fft2d(projection_t)\n",
    "        out_t = tf.abs(proj_ft_t)\n",
    "        return out_t\n",
    "\n",
    "    @abc.abstractmethod\n",
    "    def predict(self, batch_input_v, *vars):\n",
    "        pass\n",
    "\n",
    "    def _getMagnitudeNumpyOutput(self):\n",
    "        magnitudes_2d_all_t = self.getMagnitudes2d(self.magnitudes_log_v)\n",
    "        outs = {'magnitudes': magnitudes_2d_all_t.numpy()}\n",
    "        return outs\n",
    "\n",
    "    def _getDisplacementNumpyOutput(self):\n",
    "        outs = {}\n",
    "        ux_2d_t, uy_2d_t = self.getUxUy2d(self.ux_uy_2d_v)\n",
    "        magnitudes_2d_all_t = self.getMagnitudes2d(self.magnitudes_log_v)\n",
    "        uz_2d_t = tf.zeros_like(ux_2d_t)\n",
    "\n",
    "        outs['ux'] = ux_2d_t.numpy()\n",
    "        outs['uy'] = uy_2d_t.numpy()\n",
    "\n",
    "        rho_2d_cmplx_all_t = self.get2dRhoFromDisplacements(ux_2d_t,\n",
    "                                                            uy_2d_t,\n",
    "                                                            magnitudes_2d_all_t)\n",
    "        outs['rho_2d'] = rho_2d_cmplx_all_t.numpy()\n",
    "        return outs\n",
    "\n",
    "    def _getPhaseNumpyOutput(self):\n",
    "        outs = {}\n",
    "        rho_2d_cmplx_all_t = self.get2dRhoFromPhases(self.phases_v, self.magnitudes_log_v)\n",
    "        outs['rho_2d'] = rho_2d_cmplx_all_t.numpy()\n",
    "        return outs\n",
    "\n",
    "    @abc.abstractmethod\n",
    "    def getNumpyOutputs(self):\n",
    "        pass"
   ]
  }
 ],
 "metadata": {
  "kernelspec": {
   "display_name": "Python 3",
   "language": "python",
   "name": "python3"
  },
  "language_info": {
   "codemirror_mode": {
    "name": "ipython",
    "version": 3
   },
   "file_extension": ".py",
   "mimetype": "text/x-python",
   "name": "python",
   "nbconvert_exporter": "python",
   "pygments_lexer": "ipython3",
   "version": "3.8.5"
  }
 },
 "nbformat": 4,
 "nbformat_minor": 5
}
