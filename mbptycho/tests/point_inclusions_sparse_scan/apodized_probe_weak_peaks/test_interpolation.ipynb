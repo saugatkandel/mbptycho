{
 "cells": [
  {
   "cell_type": "code",
   "execution_count": 1,
   "id": "91aab1f5",
   "metadata": {},
   "outputs": [],
   "source": [
    "import numpy as np\n",
    "from matplotlib import pyplot as plt\n",
    "import matplotlib as mpl\n",
    "from tqdm import tqdm_notebook as tqdm\n",
    "\n",
    "from scipy.interpolate import RegularGridInterpolator\n",
    "\n",
    "from mbptycho.code.simulation import reloadSimulation, Simulation\n",
    "from skimage.feature import register_translation\n",
    "from skimage.restoration import unwrap_phase\n",
    "from scipy import io\n",
    "import copy\n",
    "import os\n",
    "import dill\n",
    "import ast\n",
    "\n",
    "cmap = copy.copy(mpl.cm.get_cmap('coolwarm'))\n",
    "cmap.set_bad('black')"
   ]
  },
  {
   "cell_type": "code",
   "execution_count": 2,
   "id": "34b2218b",
   "metadata": {},
   "outputs": [],
   "source": [
    "%load_ext autoreload\n",
    "%autoreload 2"
   ]
  },
  {
   "cell_type": "code",
   "execution_count": 3,
   "id": "6ae20761",
   "metadata": {},
   "outputs": [],
   "source": [
    "base_path = os.environ['HOME']"
   ]
  },
  {
   "cell_type": "code",
   "execution_count": 4,
   "id": "6bb4da00",
   "metadata": {},
   "outputs": [],
   "source": [
    "strain_type = 'point_inclusion'\n",
    "data_path =  f'{base_path}/code/mbptycho/experiments/python/{strain_type}_sparse/apodized_probe_weak_peaks'\n",
    "sim_data_path = f'{data_path}/sim_{strain_type}.pkl'\n",
    "sample_data_path = f'{data_path}/sample_{strain_type}.pkl'\n",
    "\n",
    "probes_3d_path = f'{base_path}/code/mbptycho/experiments/matlab/datasets_0821/probes_4_peaks.mat'\n",
    "\n",
    "save_plots = False"
   ]
  },
  {
   "cell_type": "code",
   "execution_count": 9,
   "id": "9ad94cd2",
   "metadata": {},
   "outputs": [
    {
     "name": "stdout",
     "output_type": "stream",
     "text": [
      "Creating new simulation...\n",
      "Reloading sample from provided file... /home/skandel/code/mbptycho/experiments/python/point_inclusion_sparse/apodized_probe_weak_peaks/sample_point_inclusion.pkl\n",
      "Sample reloaded.\n",
      "Magnitude scaling per peak is supplied. Does not apply random scaling.\n",
      "Loading probe from matlab data...\n",
      "Loading successful...\n",
      "Truncated probe shape (162, 168, 20)\n",
      "Adding poisson noise...\n",
      "Truncated probe shape (162, 182, 20)\n",
      "Adding poisson noise...\n",
      "Truncated probe shape (162, 200, 20)\n",
      "Adding poisson noise...\n",
      "Truncated probe shape (162, 190, 20)\n",
      "Adding poisson noise...\n",
      "Saving new simulation at /home/skandel/code/mbptycho/experiments/python/point_inclusion_sparse/apodized_probe_weak_peaks/sim_point_inclusion.pkl...\n"
     ]
    },
    {
     "data": {
      "text/plain": [
       "((200, 200, 20), 0.005844363636363636)"
      ]
     },
     "execution_count": 9,
     "metadata": {},
     "output_type": "execute_result"
    }
   ],
   "source": [
    "# The \"magnitudes_scaling_per_peak\" parameter sets the scattering amplitude per peak.\n",
    "\n",
    "sm = reloadSimulation(sim_data_path, reload_sim=False,\n",
    "                      reload_sample_only_filename=sample_data_path,\n",
    "                      save_sample_only_filename=sample_data_path,\n",
    "                      new_sim_params={'poisson_noise':True, \n",
    "                                      'probes_matlab_file':probes_3d_path, \n",
    "                                      'n_scan_positions':9,\n",
    "                                      'npix_scan_shift':6,\n",
    "                                      'HKL_list':np.array([[1, 0, 0],\n",
    "                                                           [1, 1, 0],\n",
    "                                                           [1, 2, 0],\n",
    "                                                           [2, 1, 0]]),\n",
    "                                     'magnitudes_scaling_per_peak': np.array([0.00807052, 0.00807052, 0.00516514, 0.00516514]),\n",
    "                                     'poisson_noise': True},\n",
    "                      new_extra_sample_params={'strain_type':strain_type, \n",
    "                                               'npix_uncertainty_x':5,\n",
    "                                               'npix_uncertainty_y':5})\n",
    "sm.sample.Ux_trunc.shape, sm.sample.params.sample_pix_size"
   ]
  },
  {
   "cell_type": "code",
   "execution_count": 11,
   "id": "bbb5e9b1",
   "metadata": {},
   "outputs": [],
   "source": [
    "smp = sm.simulations_per_peak[0]"
   ]
  },
  {
   "cell_type": "code",
   "execution_count": 12,
   "id": "522a801a",
   "metadata": {},
   "outputs": [],
   "source": [
    "rgi = RegularGridInterpolator((smp.y_nw, smp.x_nw, smp.z_nw),\n",
    "                               smp.rho,\n",
    "                                          method='linear',\n",
    "                                          bounds_error=False,\n",
    "                                          fill_value=0)"
   ]
  },
  {
   "cell_type": "code",
   "execution_count": 13,
   "id": "5d08c33c",
   "metadata": {},
   "outputs": [],
   "source": [
    "interp1 = rgi(smp.nw_rotated_masked_coords.T)"
   ]
  },
  {
   "cell_type": "code",
   "execution_count": 14,
   "id": "1be312c9",
   "metadata": {},
   "outputs": [
    {
     "data": {
      "text/plain": [
       "(-548.5699684983749-115.90347232014591j)"
      ]
     },
     "execution_count": 14,
     "metadata": {},
     "output_type": "execute_result"
    }
   ],
   "source": [
    "interp1.sum()"
   ]
  },
  {
   "cell_type": "code",
   "execution_count": 483,
   "id": "2a04ec4f",
   "metadata": {},
   "outputs": [
    {
     "data": {
      "text/plain": [
       "(array([ 58,  59,  60,  61,  62,  63,  64,  65,  66,  67,  68,  69,  70,\n",
       "         71,  72,  73,  74,  75,  76,  77,  78,  79,  80,  81,  82,  83,\n",
       "         84,  85,  86,  87,  88,  89,  90,  91,  92,  93,  94,  95,  96,\n",
       "         97,  98,  99, 100, 101, 102, 103, 104, 105, 106, 107, 108, 109,\n",
       "        110, 111, 112, 113, 114, 115, 116, 117, 118, 119, 120, 121, 122,\n",
       "        123, 124, 125, 126, 127, 128, 129, 130, 131, 132, 133, 134, 135,\n",
       "        136, 137, 138, 139, 140, 141, 142]),)"
      ]
     },
     "execution_count": 483,
     "metadata": {},
     "output_type": "execute_result"
    }
   ],
   "source": [
    "np.where(np.sum(sm.sample.obj_mask_full, axis=(1, 2)))"
   ]
  },
  {
   "cell_type": "code",
   "execution_count": null,
   "id": "ebcd18e6",
   "metadata": {},
   "outputs": [],
   "source": []
  },
  {
   "cell_type": "code",
   "execution_count": 484,
   "id": "49cdd8c4",
   "metadata": {},
   "outputs": [
    {
     "data": {
      "text/plain": [
       "array([ 58,  59,  60,  61,  62,  63,  64,  65,  66,  67,  68,  69,  70,\n",
       "        71,  72,  73,  74,  75,  76,  77,  78,  79,  80,  81,  82,  83,\n",
       "        84,  85,  86,  87,  88,  89,  90,  91,  92,  93,  94,  95,  96,\n",
       "        97,  98,  99, 100, 101, 102, 103, 104, 105, 106, 107, 108, 109,\n",
       "       110, 111, 112, 113, 114, 115, 116, 117, 118, 119, 120, 121, 122,\n",
       "       123, 124, 125, 126, 127, 128, 129, 130, 131, 132, 133, 134, 135,\n",
       "       136, 137, 138, 139, 140, 141, 142])"
      ]
     },
     "execution_count": 484,
     "metadata": {},
     "output_type": "execute_result"
    }
   ],
   "source": [
    "non_zero_y"
   ]
  },
  {
   "cell_type": "code",
   "execution_count": 485,
   "id": "ff2c4f9e",
   "metadata": {},
   "outputs": [
    {
     "data": {
      "text/plain": [
       "(100, 61)"
      ]
     },
     "execution_count": 485,
     "metadata": {},
     "output_type": "execute_result"
    }
   ],
   "source": [
    "sm.sample.obj_mask_full.shape[2], non_zero_z.max() + pad_z + 1"
   ]
  },
  {
   "cell_type": "code",
   "execution_count": 498,
   "id": "8d2f6c94",
   "metadata": {},
   "outputs": [
    {
     "data": {
      "text/plain": [
       "(array([40, 41, 42, 43, 44, 45, 46, 47, 48, 49, 50, 51, 52, 53, 54, 55, 56]),\n",
       " 40)"
      ]
     },
     "execution_count": 498,
     "metadata": {},
     "output_type": "execute_result"
    }
   ],
   "source": [
    "non_zero_z - pad_z, nw_zmin"
   ]
  },
  {
   "cell_type": "code",
   "execution_count": 531,
   "id": "cc8f8a18",
   "metadata": {},
   "outputs": [
    {
     "name": "stdout",
     "output_type": "stream",
     "text": [
      "57 143\n"
     ]
    }
   ],
   "source": [
    "pad = 1\n",
    "pad_z = 2\n",
    "non_zero_z = np.where(np.sum(sm.sample.obj_mask_full, axis=(0, 1)))[0]\n",
    "nw_zmin = np.maximum(0, non_zero_z.min() - pad_z)\n",
    "nw_zmax = np.minimum(sm.sample.obj_mask_full.shape[2], non_zero_z.max() + pad_z)\n",
    "# Ux_trunc = Ux_full[:, :, nw_zmin: nw_zmax]\n",
    "# Uy_trunc = Uy_full[:, :, nw_zmin: nw_zmax]\n",
    "# Uz_trunc = Uz_full[:, :, nw_zmin: nw_zmax]\n",
    "# obj_mask_trunc = obj_mask_full[:, :, nw_zmin: nw_zmax]\n",
    "# obj_mask_trunc_no_pad = obj_mask_full_no_pad[:, :, nw_zmin: nw_zmax]\n",
    "\n",
    "non_zero_y = np.where(np.sum(sm.sample.obj_mask_full, axis=(1, 2)))[0]\n",
    "#nw_ymin = 0\n",
    "#nw_ymax = sm.sample.obj_mask_full.shape[0]\n",
    "nw_ymin = np.maximum(0, non_zero_y.min() - pad)\n",
    "nw_ymax = np.minimum(sm.sample.obj_mask_full.shape[0],\n",
    "                     non_zero_y.max() + pad)\n",
    "print(nw_ymin, nw_ymax)\n",
    "\n",
    "non_zero_y_delta = np.where(np.sum(sm.sample.obj_mask_w_delta, axis=(1, 2)))[0]\n",
    "nw_ymin_delta = np.maximum(0, non_zero_y_delta.min() - pad)\n",
    "nw_ymax_delta = np.minimum(sm.sample.obj_mask_w_delta.shape[0],\n",
    "                                non_zero_y_delta.max() + pad)\n",
    "#nw_ymin_delta = 0\n",
    "#nw_ymax_delta = sm.sample.obj_mask_w_delta.shape[0]\n",
    "\n",
    "non_zero_x = np.where(np.sum(sm.sample.obj_mask_full, axis=(0, 2)))[0]\n",
    "nw_xmin = np.maximum(0, non_zero_x.min() - pad)\n",
    "nw_xmax = np.minimum(sm.sample.obj_mask_full.shape[1],\n",
    "                          non_zero_x.max() + pad)\n",
    "#nw_xmin = 0\n",
    "#nw_xmax = sm.sample.obj_mask_full.shape[1]\n",
    "\n",
    "non_zero_x_delta = np.where(np.sum(sm.sample.obj_mask_w_delta, axis=(0, 2)))[0]\n",
    "nw_xmin_delta = np.maximum(0, non_zero_x_delta.min() - pad)\n",
    "nw_xmax_delta = np.minimum(sm.sample.obj_mask_w_delta.shape[1],\n",
    "                                non_zero_x_delta.max() + pad)\n",
    "#nw_xmin_delta = 0\n",
    "#nw_xmax_delta = sm.sample.obj_mask_w_delta.shape[1]\n",
    "\n",
    "slice = np.s_[nw_ymin: nw_ymax + 1,\n",
    "        nw_xmin: nw_xmax + 1,\n",
    "        nw_zmin: nw_zmax + 1]\n",
    "\n",
    "slice_delta = np.s_[nw_ymin_delta: nw_ymax_delta + 1,\n",
    "              nw_xmin_delta: nw_xmax_delta + 1,\n",
    "              nw_zmin: nw_zmax + 1]\n",
    "\n",
    "Ux_trunc = sm.sample.Ux_full[slice]\n",
    "Uy_trunc = sm.sample.Uy_full[slice]\n",
    "Uz_trunc = sm.sample.Uz_full[slice]\n",
    "obj_mask_trunc_delta = sm.sample.obj_mask_w_delta[slice_delta]\n",
    "obj_mask_trunc = sm.sample.obj_mask_full[slice]\n",
    "\n",
    "x_trunc = sm.sample.x_full[nw_xmin: nw_xmax + 1]\n",
    "y_trunc = sm.sample.y_full[nw_ymin: nw_ymax + 1]\n",
    "z_trunc = sm.sample.z_full[nw_zmin: nw_zmax + 1]\n",
    "\n",
    "x_trunc_delta = sm.sample.x_full[nw_xmin_delta: nw_xmax_delta + 1]\n",
    "y_trunc_delta = sm.sample.y_full[nw_ymin_delta: nw_ymax_delta + 1]\n",
    "# z_trunc_delta = z_full[nw_zmin: nw_zmax]\n",
    "\n",
    "YY_trunc, XX_trunc, ZZ_trunc = np.meshgrid(y_trunc, x_trunc, z_trunc,\n",
    "                                                                  indexing='ij')"
   ]
  },
  {
   "cell_type": "code",
   "execution_count": 533,
   "id": "69ba8a45",
   "metadata": {},
   "outputs": [
    {
     "data": {
      "text/plain": [
       "((21,), (slice(57, 144, None), slice(31, 170, None), slice(40, 61, None)))"
      ]
     },
     "execution_count": 533,
     "metadata": {},
     "output_type": "execute_result"
    }
   ],
   "source": [
    "z_trunc.shape, slice"
   ]
  },
  {
   "cell_type": "code",
   "execution_count": 527,
   "id": "67e6586b",
   "metadata": {},
   "outputs": [],
   "source": [
    "x_nw=x_trunc\n",
    "y_nw=y_trunc\n",
    "z_nw=z_trunc\n",
    "                                                            \n",
    "\n",
    "YY_nw, XX_nw, ZZ_nw = np.meshgrid(y_nw, x_nw, z_nw, indexing='ij')\n",
    "\n",
    "nw_coords_stacked = np.stack((YY_nw.flatten(), XX_nw.flatten(), ZZ_nw.flatten()), axis=0)\n",
    "\n",
    "# [\n",
    "#    self.y_nw, self.x_nw, self.z_nw,\n",
    "#    self.YY_nw, self.XX_nw, self.ZZ_nw,\n",
    "#    self.nw_coords_stacked\n",
    "# ] = self.getNumericalWindowCoordinates(self.rho, self.sample_params.sample_pix_size)\n",
    "\n",
    "nw_rotated_coords_stacked = (smp.rotate_gamma @ smp.rotate_two_theta @\n",
    "                             smp.rotate_theta @ smp.nw_coords_stacked)\n",
    "\n",
    "# Identify the rotated coordinates which lie outside the numerical window, and where the field can\n",
    "# be set to zero.\n",
    "# If we have prior knowledge about the sample size, then we can use the sample dimensions instead of\n",
    "# the numerical window dimensions to set the field to zero. This greatly reduces the computational cost.\n",
    "\n",
    "nw_rotation_mask = smp.getNonzeroMaskAfterRotation(nw_rotated_coords_stacked,\n",
    "                                                   sm.sample.params.grain_height,\n",
    "                                                   sm.sample.params.grain_width,\n",
    "                                                   sm.sample.params.film_thickness,\n",
    "                                                   sm.sample.params.sample_pix_size)\n",
    "nw_rotated_masked_coords = nw_rotated_coords_stacked.T[nw_rotation_mask].T\n",
    "nw_rotation_mask_indices = np.where(nw_rotation_mask)[0]"
   ]
  },
  {
   "cell_type": "code",
   "execution_count": 528,
   "id": "09b5c152",
   "metadata": {},
   "outputs": [
    {
     "data": {
      "text/plain": [
       "((200, 200, 20), (19,))"
      ]
     },
     "execution_count": 528,
     "metadata": {},
     "output_type": "execute_result"
    }
   ],
   "source": [
    "smp.rho.shape, z_nw.shape"
   ]
  },
  {
   "cell_type": "code",
   "execution_count": 534,
   "id": "519b9cab",
   "metadata": {},
   "outputs": [
    {
     "ename": "AttributeError",
     "evalue": "'SimulationPerBraggPeak' object has no attribute 'rho_full'",
     "output_type": "error",
     "traceback": [
      "\u001b[0;31m---------------------------------------------------------------------------\u001b[0m",
      "\u001b[0;31mAttributeError\u001b[0m                            Traceback (most recent call last)",
      "\u001b[0;32m<ipython-input-534-72030afeadf0>\u001b[0m in \u001b[0;36m<module>\u001b[0;34m\u001b[0m\n\u001b[0;32m----> 1\u001b[0;31m \u001b[0msmp\u001b[0m\u001b[0;34m.\u001b[0m\u001b[0mrho_full\u001b[0m\u001b[0;34m\u001b[0m\u001b[0;34m\u001b[0m\u001b[0m\n\u001b[0m",
      "\u001b[0;31mAttributeError\u001b[0m: 'SimulationPerBraggPeak' object has no attribute 'rho_full'"
     ]
    }
   ],
   "source": [
    "smp.rho_full"
   ]
  },
  {
   "cell_type": "code",
   "execution_count": 530,
   "id": "ea2bf7ef",
   "metadata": {},
   "outputs": [
    {
     "ename": "ValueError",
     "evalue": "There are 19 points and 20 values in dimension 2",
     "output_type": "error",
     "traceback": [
      "\u001b[0;31m---------------------------------------------------------------------------\u001b[0m",
      "\u001b[0;31mValueError\u001b[0m                                Traceback (most recent call last)",
      "\u001b[0;32m<ipython-input-530-88b7d11db145>\u001b[0m in \u001b[0;36m<module>\u001b[0;34m\u001b[0m\n\u001b[0;32m----> 1\u001b[0;31m rgi2 = RegularGridInterpolator((y_nw, x_nw, z_nw),\n\u001b[0m\u001b[1;32m      2\u001b[0m                                \u001b[0msmp\u001b[0m\u001b[0;34m.\u001b[0m\u001b[0mrho\u001b[0m\u001b[0;34m[\u001b[0m\u001b[0mnw_ymin\u001b[0m\u001b[0;34m:\u001b[0m\u001b[0mnw_ymax\u001b[0m \u001b[0;34m+\u001b[0m \u001b[0;36m1\u001b[0m\u001b[0;34m,\u001b[0m \u001b[0mnw_xmin\u001b[0m\u001b[0;34m:\u001b[0m\u001b[0mnw_xmax\u001b[0m \u001b[0;34m+\u001b[0m \u001b[0;36m1\u001b[0m\u001b[0;34m]\u001b[0m\u001b[0;34m,\u001b[0m\u001b[0;34m\u001b[0m\u001b[0;34m\u001b[0m\u001b[0m\n\u001b[1;32m      3\u001b[0m                                           \u001b[0mmethod\u001b[0m\u001b[0;34m=\u001b[0m\u001b[0;34m'linear'\u001b[0m\u001b[0;34m,\u001b[0m\u001b[0;34m\u001b[0m\u001b[0;34m\u001b[0m\u001b[0m\n\u001b[1;32m      4\u001b[0m                                           \u001b[0mbounds_error\u001b[0m\u001b[0;34m=\u001b[0m\u001b[0;32mFalse\u001b[0m\u001b[0;34m,\u001b[0m\u001b[0;34m\u001b[0m\u001b[0;34m\u001b[0m\u001b[0m\n\u001b[1;32m      5\u001b[0m                                           fill_value=0)\n",
      "\u001b[0;32m~/miniconda3/envs/tf2/lib/python3.8/site-packages/scipy/interpolate/interpolate.py\u001b[0m in \u001b[0;36m__init__\u001b[0;34m(self, points, values, method, bounds_error, fill_value)\u001b[0m\n\u001b[1;32m   2470\u001b[0m                                  \"1-dimensional\" % i)\n\u001b[1;32m   2471\u001b[0m             \u001b[0;32mif\u001b[0m \u001b[0;32mnot\u001b[0m \u001b[0mvalues\u001b[0m\u001b[0;34m.\u001b[0m\u001b[0mshape\u001b[0m\u001b[0;34m[\u001b[0m\u001b[0mi\u001b[0m\u001b[0;34m]\u001b[0m \u001b[0;34m==\u001b[0m \u001b[0mlen\u001b[0m\u001b[0;34m(\u001b[0m\u001b[0mp\u001b[0m\u001b[0;34m)\u001b[0m\u001b[0;34m:\u001b[0m\u001b[0;34m\u001b[0m\u001b[0;34m\u001b[0m\u001b[0m\n\u001b[0;32m-> 2472\u001b[0;31m                 raise ValueError(\"There are %d points and %d values in \"\n\u001b[0m\u001b[1;32m   2473\u001b[0m                                  \"dimension %d\" % (len(p), values.shape[i], i))\n\u001b[1;32m   2474\u001b[0m         \u001b[0mself\u001b[0m\u001b[0;34m.\u001b[0m\u001b[0mgrid\u001b[0m \u001b[0;34m=\u001b[0m \u001b[0mtuple\u001b[0m\u001b[0;34m(\u001b[0m\u001b[0;34m[\u001b[0m\u001b[0mnp\u001b[0m\u001b[0;34m.\u001b[0m\u001b[0masarray\u001b[0m\u001b[0;34m(\u001b[0m\u001b[0mp\u001b[0m\u001b[0;34m)\u001b[0m \u001b[0;32mfor\u001b[0m \u001b[0mp\u001b[0m \u001b[0;32min\u001b[0m \u001b[0mpoints\u001b[0m\u001b[0;34m]\u001b[0m\u001b[0;34m)\u001b[0m\u001b[0;34m\u001b[0m\u001b[0;34m\u001b[0m\u001b[0m\n",
      "\u001b[0;31mValueError\u001b[0m: There are 19 points and 20 values in dimension 2"
     ]
    }
   ],
   "source": [
    "rgi2 = RegularGridInterpolator((y_nw, x_nw, z_nw),\n",
    "                               smp.rho[nw_ymin:nw_ymax + 1, nw_xmin:nw_xmax + 1],\n",
    "                                          method='linear',\n",
    "                                          bounds_error=False,\n",
    "                                          fill_value=0)"
   ]
  },
  {
   "cell_type": "code",
   "execution_count": 525,
   "id": "02a6794a",
   "metadata": {},
   "outputs": [],
   "source": [
    "import scipy"
   ]
  },
  {
   "cell_type": "code",
   "execution_count": 517,
   "id": "364157df",
   "metadata": {},
   "outputs": [
    {
     "data": {
      "text/plain": [
       "(237360, 237360, 237360)"
      ]
     },
     "execution_count": 517,
     "metadata": {},
     "output_type": "execute_result"
    }
   ],
   "source": [
    "smp.rho[nw_ymin:nw_ymax, nw_xmin:nw_xmax].size, YY_nw.size, ZZ_nw.size"
   ]
  },
  {
   "cell_type": "code",
   "execution_count": 518,
   "id": "2dc9e165",
   "metadata": {},
   "outputs": [],
   "source": [
    "rgi.bounds_error = False\n",
    "rgi2.bounds_error = False"
   ]
  },
  {
   "cell_type": "code",
   "execution_count": 519,
   "id": "3a1e2802",
   "metadata": {},
   "outputs": [
    {
     "data": {
      "text/plain": [
       "array([ 0.        +0.j        , -0.0072368 +0.00235028j,\n",
       "       -0.00768061+0.00247797j, -0.00768547+0.00246309j,\n",
       "        0.        +0.j        ,  0.        +0.j        ,\n",
       "        0.        +0.j        ,  0.        +0.j        ,\n",
       "        0.        +0.j        ,  0.        +0.j        ])"
      ]
     },
     "execution_count": 519,
     "metadata": {},
     "output_type": "execute_result"
    }
   ],
   "source": [
    "rgi2(nw_rotated_masked_coords.T[3730:3740])"
   ]
  },
  {
   "cell_type": "code",
   "execution_count": 520,
   "id": "25b98f32",
   "metadata": {},
   "outputs": [
    {
     "data": {
      "text/plain": [
       "array([ 0.        +0.j        , -0.0072368 +0.00235028j,\n",
       "       -0.00768061+0.00247797j, -0.00768547+0.00246309j,\n",
       "       -0.00639051+0.00204746j, -0.00503483+0.00161312j,\n",
       "       -0.00367916+0.00117877j,  0.        +0.j        ,\n",
       "       -0.00221676+0.00071023j, -0.00153667+0.00049234j])"
      ]
     },
     "execution_count": 520,
     "metadata": {},
     "output_type": "execute_result"
    }
   ],
   "source": [
    "rgi(nw_rotated_masked_coords.T[3730:3740])"
   ]
  },
  {
   "cell_type": "code",
   "execution_count": 468,
   "id": "22494894",
   "metadata": {},
   "outputs": [
    {
     "data": {
      "text/plain": [
       "(1.0, -1.0, 0.39741672727272725, -0.4032610909090909)"
      ]
     },
     "execution_count": 468,
     "metadata": {},
     "output_type": "execute_result"
    }
   ],
   "source": [
    "rgi1.grid[1].max(), rgi1.grid[1].min(), rgi2.grid[1].max(), rgi2.grid[1].min()"
   ]
  },
  {
   "cell_type": "code",
   "execution_count": 459,
   "id": "32c647ab",
   "metadata": {},
   "outputs": [
    {
     "data": {
      "text/plain": [
       "0"
      ]
     },
     "execution_count": 459,
     "metadata": {},
     "output_type": "execute_result"
    }
   ],
   "source": [
    "sm.sample.obj_mask_full[:,169,:].sum()"
   ]
  },
  {
   "cell_type": "code",
   "execution_count": 460,
   "id": "4a73ac6d",
   "metadata": {},
   "outputs": [
    {
     "data": {
      "text/plain": [
       "0.4032610909090909"
      ]
     },
     "execution_count": 460,
     "metadata": {},
     "output_type": "execute_result"
    }
   ],
   "source": [
    "sm.sample.x_full[169]"
   ]
  },
  {
   "cell_type": "code",
   "execution_count": 448,
   "id": "bba2145c",
   "metadata": {},
   "outputs": [
    {
     "data": {
      "text/plain": [
       "array([ 32,  33,  34,  35,  36,  37,  38,  39,  40,  41,  42,  43,  44,\n",
       "        45,  46,  47,  48,  49,  50,  51,  52,  53,  54,  55,  56,  57,\n",
       "        58,  59,  60,  61,  62,  63,  64,  65,  66,  67,  68,  69,  70,\n",
       "        71,  72,  73,  74,  75,  76,  77,  78,  79,  80,  81,  82,  83,\n",
       "        84,  85,  86,  87,  88,  89,  90,  91,  92,  93,  94,  95,  96,\n",
       "        97,  98,  99, 100, 101, 102, 103, 104, 105, 106, 107, 108, 109,\n",
       "       110, 111, 112, 113, 114, 115, 116, 117, 118, 119, 120, 121, 122,\n",
       "       123, 124, 125, 126, 127, 128, 129, 130, 131, 132, 133, 134, 135,\n",
       "       136, 137, 138, 139, 140, 141, 142, 143, 144, 145, 146, 147, 148,\n",
       "       149, 150, 151, 152, 153, 154, 155, 156, 157, 158, 159, 160, 161,\n",
       "       162, 163, 164, 165, 166, 167, 168])"
      ]
     },
     "execution_count": 448,
     "metadata": {},
     "output_type": "execute_result"
    }
   ],
   "source": [
    "non_zero_x"
   ]
  },
  {
   "cell_type": "code",
   "execution_count": 452,
   "id": "bf041374",
   "metadata": {},
   "outputs": [
    {
     "data": {
      "text/plain": [
       "array([ 32,  33,  34,  35,  36,  37,  38,  39,  40,  41,  42,  43,  44,\n",
       "        45,  46,  47,  48,  49,  50,  51,  52,  53,  54,  55,  56,  57,\n",
       "        58,  59,  60,  61,  62,  63,  64,  65,  66,  67,  68,  69,  70,\n",
       "        71,  72,  73,  74,  75,  76,  77,  78,  79,  80,  81,  82,  83,\n",
       "        84,  85,  86,  87,  88,  89,  90,  91,  92,  93,  94,  95,  96,\n",
       "        97,  98,  99, 100, 101, 102, 103, 104, 105, 106, 107, 108, 109,\n",
       "       110, 111, 112, 113, 114, 115, 116, 117, 118, 119, 120, 121, 122,\n",
       "       123, 124, 125, 126, 127, 128, 129, 130, 131, 132, 133, 134, 135,\n",
       "       136, 137, 138, 139, 140, 141, 142, 143, 144, 145, 146, 147, 148,\n",
       "       149, 150, 151, 152, 153, 154, 155, 156, 157, 158, 159, 160, 161,\n",
       "       162, 163, 164, 165, 166, 167, 168])"
      ]
     },
     "execution_count": 452,
     "metadata": {},
     "output_type": "execute_result"
    }
   ],
   "source": [
    "np.where(np.sum(sm.sample.obj_mask_full, axis=(0, 2)))[0]"
   ]
  },
  {
   "cell_type": "code",
   "execution_count": 469,
   "id": "7b8bd4a1",
   "metadata": {},
   "outputs": [
    {
     "data": {
      "text/plain": [
       "169"
      ]
     },
     "execution_count": 469,
     "metadata": {},
     "output_type": "execute_result"
    }
   ],
   "source": [
    "nw_xmax"
   ]
  },
  {
   "cell_type": "code",
   "execution_count": 231,
   "id": "ca38525e",
   "metadata": {},
   "outputs": [],
   "source": [
    "rot_mat = smp.rotate_gamma @ smp.rotate_two_theta @ smp.rotate_theta"
   ]
  },
  {
   "cell_type": "code",
   "execution_count": 236,
   "id": "332c34cd",
   "metadata": {},
   "outputs": [
    {
     "data": {
      "text/plain": [
       "array([[-0.24546327,  0.39741673,  0.01753309],\n",
       "       [-0.24546327,  0.39741673,  0.02337745],\n",
       "       [-0.24546327,  0.39741673,  0.02922182],\n",
       "       [-0.24546327,  0.39741673,  0.03506618],\n",
       "       [-0.24546327,  0.39741673,  0.04091055],\n",
       "       [-0.24546327,  0.39741673,  0.04675491],\n",
       "       [-0.24546327,  0.39741673,  0.05259927],\n",
       "       [-0.24546327,  0.40326109,  0.01753309],\n",
       "       [-0.24546327,  0.40326109,  0.02337745],\n",
       "       [-0.24546327,  0.40326109,  0.02922182]])"
      ]
     },
     "execution_count": 236,
     "metadata": {},
     "output_type": "execute_result"
    }
   ],
   "source": [
    "(np.linalg.pinv(rot_mat) @ (nw_rotated_masked_coords.T[3730:3740]).T).T"
   ]
  },
  {
   "cell_type": "code",
   "execution_count": 242,
   "id": "93be0ca1",
   "metadata": {},
   "outputs": [
    {
     "data": {
      "text/plain": [
       "(0.8, 0.5, 0.1)"
      ]
     },
     "execution_count": 242,
     "metadata": {},
     "output_type": "execute_result"
    }
   ],
   "source": [
    "sm.sample.params.grain_width, sm.sample.params.grain_height, sm.sample.params.film_thickness"
   ]
  },
  {
   "cell_type": "code",
   "execution_count": 237,
   "id": "67fb1038",
   "metadata": {},
   "outputs": [
    {
     "data": {
      "text/plain": [
       "array([[-0.24546327,  0.39427808, -0.05284186],\n",
       "       [-0.24546327,  0.39530896, -0.04708913],\n",
       "       [-0.24546327,  0.39633984, -0.0413364 ],\n",
       "       [-0.24546327,  0.39737073, -0.03558367],\n",
       "       [-0.24546327,  0.39840161, -0.02983095],\n",
       "       [-0.24546327,  0.39943249, -0.02407822],\n",
       "       [-0.24546327,  0.40046338, -0.01832549],\n",
       "       [-0.24546327,  0.4000308 , -0.05387274],\n",
       "       [-0.24546327,  0.40106169, -0.04812001],\n",
       "       [-0.24546327,  0.40209257, -0.04236728]])"
      ]
     },
     "execution_count": 237,
     "metadata": {},
     "output_type": "execute_result"
    }
   ],
   "source": [
    "nw_rotated_masked_coords.T[3730:3740]"
   ]
  },
  {
   "cell_type": "code",
   "execution_count": 252,
   "id": "bee10dce",
   "metadata": {},
   "outputs": [
    {
     "data": {
      "text/plain": [
       "([array([57, 57, 57, 57, 57, 57, 57, 57, 57, 57]),\n",
       "  array([167, 167, 167, 167, 168, 168, 168, 168, 168, 168]),\n",
       "  array([0, 1, 2, 3, 4, 5, 6, 0, 1, 2])],\n",
       " [array([1., 1., 1., 1., 1., 1., 1., 1., 1., 1.]),\n",
       "  array([0.46296131, 0.63935055, 0.8157398 , 0.99212904, 0.16851829,\n",
       "         0.34490753, 0.52129678, 0.4472818 , 0.62367105, 0.80006029]),\n",
       "  array([0.95849285, 0.94281335, 0.92713384, 0.91145433, 0.89577483,\n",
       "         0.88009532, 0.86441581, 0.78210361, 0.7664241 , 0.75074459])],\n",
       " array([False, False, False, False, False, False, False, False, False,\n",
       "        False]))"
      ]
     },
     "execution_count": 252,
     "metadata": {},
     "output_type": "execute_result"
    }
   ],
   "source": [
    "rgi._find_indices(nw_rotated_masked_coords.T[3730:3740].T)"
   ]
  },
  {
   "cell_type": "code",
   "execution_count": 256,
   "id": "2a094db1",
   "metadata": {},
   "outputs": [
    {
     "data": {
      "text/plain": [
       "([array([0, 0, 0, 0, 0, 0, 0, 0, 0, 0]),\n",
       "  array([136, 136, 136, 136, 136, 136, 136, 136, 136, 136]),\n",
       "  array([0, 1, 2, 3, 4, 5, 6, 0, 1, 2])],\n",
       " [array([1., 1., 1., 1., 1., 1., 1., 1., 1., 1.]),\n",
       "  array([0.46296131, 0.63935055, 0.8157398 , 0.99212904, 1.16851829,\n",
       "         1.34490753, 1.52129678, 1.4472818 , 1.62367105, 1.80006029]),\n",
       "  array([0.95849285, 0.94281335, 0.92713384, 0.91145433, 0.89577483,\n",
       "         0.88009532, 0.86441581, 0.78210361, 0.7664241 , 0.75074459])],\n",
       " array([False, False, False, False,  True,  True,  True,  True,  True,\n",
       "         True]))"
      ]
     },
     "execution_count": 256,
     "metadata": {},
     "output_type": "execute_result"
    }
   ],
   "source": [
    "rgi2._find_indices(nw_rotated_masked_coords.T[3730:3740].T)"
   ]
  },
  {
   "cell_type": "code",
   "execution_count": 282,
   "id": "7207c667",
   "metadata": {},
   "outputs": [],
   "source": [
    "test_coord = nw_rotated_masked_coords.T[3735:3736]"
   ]
  },
  {
   "cell_type": "code",
   "execution_count": 320,
   "id": "587afda2",
   "metadata": {},
   "outputs": [],
   "source": [
    "rgi.bounds_error=True"
   ]
  },
  {
   "cell_type": "code",
   "execution_count": 293,
   "id": "d8fa7b23",
   "metadata": {},
   "outputs": [
    {
     "data": {
      "text/plain": [
       "(array([-0.00503483+0.00161312j]), array([0.+0.j]))"
      ]
     },
     "execution_count": 293,
     "metadata": {},
     "output_type": "execute_result"
    }
   ],
   "source": [
    "rgi(test_coord), rgi2(test_coord)"
   ]
  },
  {
   "cell_type": "code",
   "execution_count": 321,
   "id": "a7d356ee",
   "metadata": {},
   "outputs": [
    {
     "data": {
      "text/plain": [
       "(([array([57]), array([168]), array([5])],\n",
       "  [array([1.]), array([0.34490753]), array([0.88009532])],\n",
       "  array([False])),\n",
       " ([array([0]), array([136]), array([5])],\n",
       "  [array([1.]), array([1.34490753]), array([0.88009532])],\n",
       "  array([ True])))"
      ]
     },
     "execution_count": 321,
     "metadata": {},
     "output_type": "execute_result"
    }
   ],
   "source": [
    "rgi._find_indices(test_coord.T), rgi2._find_indices(test_coord.T)"
   ]
  },
  {
   "cell_type": "code",
   "execution_count": 304,
   "id": "c7eabaa8",
   "metadata": {},
   "outputs": [
    {
     "data": {
      "text/plain": [
       "(-0.25130763636363634, 0.39741672727272725, 0.3915723636363636)"
      ]
     },
     "execution_count": 304,
     "metadata": {},
     "output_type": "execute_result"
    }
   ],
   "source": [
    "smp.y_nw[57], smp.x_nw[168], smp.x_nw[167]"
   ]
  },
  {
   "cell_type": "code",
   "execution_count": 303,
   "id": "3e047bdf",
   "metadata": {},
   "outputs": [
    {
     "data": {
      "text/plain": [
       "(-0.25130763636363634, 0.3915723636363636, 0.39741672727272725)"
      ]
     },
     "execution_count": 303,
     "metadata": {},
     "output_type": "execute_result"
    }
   ],
   "source": [
    "y_nw[0], x_nw[136], x_nw[137]"
   ]
  },
  {
   "cell_type": "code",
   "execution_count": 418,
   "id": "b7f52420",
   "metadata": {},
   "outputs": [
    {
     "data": {
      "text/plain": [
       "array([-0.40326109, -0.39741673, -0.39157236, -0.385728  , -0.37988364,\n",
       "       -0.37403927, -0.36819491, -0.36235055, -0.35650618, -0.35066182,\n",
       "       -0.34481745, -0.33897309, -0.33312873, -0.32728436, -0.32144   ,\n",
       "       -0.31559564, -0.30975127, -0.30390691, -0.29806255, -0.29221818,\n",
       "       -0.28637382, -0.28052945, -0.27468509, -0.26884073, -0.26299636,\n",
       "       -0.257152  , -0.25130764, -0.24546327, -0.23961891, -0.23377455,\n",
       "       -0.22793018, -0.22208582, -0.21624145, -0.21039709, -0.20455273,\n",
       "       -0.19870836, -0.192864  , -0.18701964, -0.18117527, -0.17533091,\n",
       "       -0.16948655, -0.16364218, -0.15779782, -0.15195345, -0.14610909,\n",
       "       -0.14026473, -0.13442036, -0.128576  , -0.12273164, -0.11688727,\n",
       "       -0.11104291, -0.10519855, -0.09935418, -0.09350982, -0.08766545,\n",
       "       -0.08182109, -0.07597673, -0.07013236, -0.064288  , -0.05844364,\n",
       "       -0.05259927, -0.04675491, -0.04091055, -0.03506618, -0.02922182,\n",
       "       -0.02337745, -0.01753309, -0.01168873, -0.00584436,  0.        ,\n",
       "        0.00584436,  0.01168873,  0.01753309,  0.02337745,  0.02922182,\n",
       "        0.03506618,  0.04091055,  0.04675491,  0.05259927,  0.05844364,\n",
       "        0.064288  ,  0.07013236,  0.07597673,  0.08182109,  0.08766545,\n",
       "        0.09350982,  0.09935418,  0.10519855,  0.11104291,  0.11688727,\n",
       "        0.12273164,  0.128576  ,  0.13442036,  0.14026473,  0.14610909,\n",
       "        0.15195345,  0.15779782,  0.16364218,  0.16948655,  0.17533091,\n",
       "        0.18117527,  0.18701964,  0.192864  ,  0.19870836,  0.20455273,\n",
       "        0.21039709,  0.21624145,  0.22208582,  0.22793018,  0.23377455,\n",
       "        0.23961891,  0.24546327,  0.25130764,  0.257152  ,  0.26299636,\n",
       "        0.26884073,  0.27468509,  0.28052945,  0.28637382,  0.29221818,\n",
       "        0.29806255,  0.30390691,  0.30975127,  0.31559564,  0.32144   ,\n",
       "        0.32728436,  0.33312873,  0.33897309,  0.34481745,  0.35066182,\n",
       "        0.35650618,  0.36235055,  0.36819491,  0.37403927,  0.37988364,\n",
       "        0.385728  ,  0.39157236,  0.39741673])"
      ]
     },
     "execution_count": 418,
     "metadata": {},
     "output_type": "execute_result"
    }
   ],
   "source": [
    "rgi2.grid[1]"
   ]
  },
  {
   "cell_type": "code",
   "execution_count": null,
   "id": "8bfbabca",
   "metadata": {},
   "outputs": [],
   "source": [
    "sm.z"
   ]
  },
  {
   "cell_type": "code",
   "execution_count": 287,
   "id": "a7470b73",
   "metadata": {},
   "outputs": [],
   "source": [
    "grid1 = rgi.grid\n",
    "grid2 = rgi2.grid"
   ]
  },
  {
   "cell_type": "code",
   "execution_count": null,
   "id": "bfc92339",
   "metadata": {},
   "outputs": [],
   "source": [
    "def _find_indices(self, xi):\n",
    "        # find relevant edges between which xi are situated\n",
    "        indices = []\n",
    "        # compute distance to lower edge in unity units\n",
    "        norm_distances = []\n",
    "        # check for out of bounds xi\n",
    "        out_of_bounds = np.zeros((xi.shape[1]), dtype=bool)\n",
    "        # iterate through dimensions\n",
    "        for x, grid in zip(xi, self.grid):\n",
    "            i = np.searchsorted(grid, x) - 1\n",
    "            i[i < 0] = 0\n",
    "            i[i > grid.size - 2] = grid.size - 2\n",
    "            indices.append(i)\n",
    "            norm_distances.append((x - grid[i]) /\n",
    "                                  (grid[i + 1] - grid[i]))\n",
    "            if not self.bounds_error:\n",
    "                out_of_bounds += x < grid[0]\n",
    "                out_of_bounds += x > grid[-1]\n",
    "        return indices, norm_distances, out_of_bounds"
   ]
  },
  {
   "cell_type": "code",
   "execution_count": 315,
   "id": "f45f0cf2",
   "metadata": {},
   "outputs": [
    {
     "name": "stdout",
     "output_type": "stream",
     "text": [
      "137\n"
     ]
    }
   ],
   "source": [
    "i = np.searchsorted(grid2[1], test_coord[0,1]) - 1\n",
    "print(i)"
   ]
  },
  {
   "cell_type": "code",
   "execution_count": 319,
   "id": "a5a62233",
   "metadata": {},
   "outputs": [
    {
     "data": {
      "text/plain": [
       "138"
      ]
     },
     "execution_count": 319,
     "metadata": {},
     "output_type": "execute_result"
    }
   ],
   "source": [
    "grid2[1].size"
   ]
  },
  {
   "cell_type": "code",
   "execution_count": 305,
   "id": "777caed6",
   "metadata": {},
   "outputs": [
    {
     "data": {
      "text/plain": [
       "(array([-0.24546327]),\n",
       " array([-0.25130764, -0.24546327, -0.23961891, -0.23377455, -0.22793018,\n",
       "        -0.22208582, -0.21624145, -0.21039709, -0.20455273, -0.19870836,\n",
       "        -0.192864  , -0.18701964, -0.18117527, -0.17533091, -0.16948655,\n",
       "        -0.16364218, -0.15779782, -0.15195345, -0.14610909, -0.14026473,\n",
       "        -0.13442036, -0.128576  , -0.12273164, -0.11688727, -0.11104291,\n",
       "        -0.10519855, -0.09935418, -0.09350982, -0.08766545, -0.08182109,\n",
       "        -0.07597673, -0.07013236, -0.064288  , -0.05844364, -0.05259927,\n",
       "        -0.04675491, -0.04091055, -0.03506618, -0.02922182, -0.02337745,\n",
       "        -0.01753309, -0.01168873, -0.00584436,  0.        ,  0.00584436,\n",
       "         0.01168873,  0.01753309,  0.02337745,  0.02922182,  0.03506618,\n",
       "         0.04091055,  0.04675491,  0.05259927,  0.05844364,  0.064288  ,\n",
       "         0.07013236,  0.07597673,  0.08182109,  0.08766545,  0.09350982,\n",
       "         0.09935418,  0.10519855,  0.11104291,  0.11688727,  0.12273164,\n",
       "         0.128576  ,  0.13442036,  0.14026473,  0.14610909,  0.15195345,\n",
       "         0.15779782,  0.16364218,  0.16948655,  0.17533091,  0.18117527,\n",
       "         0.18701964,  0.192864  ,  0.19870836,  0.20455273,  0.21039709,\n",
       "         0.21624145,  0.22208582,  0.22793018,  0.23377455,  0.23961891,\n",
       "         0.24546327]))"
      ]
     },
     "execution_count": 305,
     "metadata": {},
     "output_type": "execute_result"
    }
   ],
   "source": [
    "list(zip(test_coord.T, grid2))[0]"
   ]
  },
  {
   "cell_type": "code",
   "execution_count": null,
   "id": "64259a80",
   "metadata": {},
   "outputs": [],
   "source": [
    "np.searchsorted()"
   ]
  },
  {
   "cell_type": "code",
   "execution_count": null,
   "id": "f5319482",
   "metadata": {},
   "outputs": [],
   "source": []
  },
  {
   "cell_type": "code",
   "execution_count": null,
   "id": "b88fe0f5",
   "metadata": {},
   "outputs": [],
   "source": []
  },
  {
   "cell_type": "code",
   "execution_count": 255,
   "id": "bddeeab8",
   "metadata": {},
   "outputs": [],
   "source": [
    "interp2 = rgi2(nw_rotated_masked_coords.T[3730:3740])"
   ]
  },
  {
   "cell_type": "code",
   "execution_count": 271,
   "id": "75a26c6c",
   "metadata": {},
   "outputs": [
    {
     "data": {
      "text/plain": [
       "(array([-0.25130764, -0.24546327, -0.23961891, -0.23377455, -0.22793018,\n",
       "        -0.22208582, -0.21624145, -0.21039709, -0.20455273, -0.19870836,\n",
       "        -0.192864  , -0.18701964, -0.18117527, -0.17533091, -0.16948655,\n",
       "        -0.16364218, -0.15779782, -0.15195345, -0.14610909, -0.14026473,\n",
       "        -0.13442036, -0.128576  , -0.12273164, -0.11688727, -0.11104291,\n",
       "        -0.10519855, -0.09935418, -0.09350982, -0.08766545, -0.08182109,\n",
       "        -0.07597673, -0.07013236, -0.064288  , -0.05844364, -0.05259927,\n",
       "        -0.04675491, -0.04091055, -0.03506618, -0.02922182, -0.02337745,\n",
       "        -0.01753309, -0.01168873, -0.00584436,  0.        ,  0.00584436,\n",
       "         0.01168873,  0.01753309,  0.02337745,  0.02922182,  0.03506618,\n",
       "         0.04091055,  0.04675491,  0.05259927,  0.05844364,  0.064288  ,\n",
       "         0.07013236,  0.07597673,  0.08182109,  0.08766545,  0.09350982,\n",
       "         0.09935418,  0.10519855,  0.11104291,  0.11688727,  0.12273164,\n",
       "         0.128576  ,  0.13442036,  0.14026473,  0.14610909,  0.15195345,\n",
       "         0.15779782,  0.16364218,  0.16948655,  0.17533091,  0.18117527,\n",
       "         0.18701964,  0.192864  ,  0.19870836,  0.20455273,  0.21039709,\n",
       "         0.21624145,  0.22208582,  0.22793018,  0.23377455,  0.23961891,\n",
       "         0.24546327]),\n",
       " array([-0.40326109, -0.39741673, -0.39157236, -0.385728  , -0.37988364,\n",
       "        -0.37403927, -0.36819491, -0.36235055, -0.35650618, -0.35066182,\n",
       "        -0.34481745, -0.33897309, -0.33312873, -0.32728436, -0.32144   ,\n",
       "        -0.31559564, -0.30975127, -0.30390691, -0.29806255, -0.29221818,\n",
       "        -0.28637382, -0.28052945, -0.27468509, -0.26884073, -0.26299636,\n",
       "        -0.257152  , -0.25130764, -0.24546327, -0.23961891, -0.23377455,\n",
       "        -0.22793018, -0.22208582, -0.21624145, -0.21039709, -0.20455273,\n",
       "        -0.19870836, -0.192864  , -0.18701964, -0.18117527, -0.17533091,\n",
       "        -0.16948655, -0.16364218, -0.15779782, -0.15195345, -0.14610909,\n",
       "        -0.14026473, -0.13442036, -0.128576  , -0.12273164, -0.11688727,\n",
       "        -0.11104291, -0.10519855, -0.09935418, -0.09350982, -0.08766545,\n",
       "        -0.08182109, -0.07597673, -0.07013236, -0.064288  , -0.05844364,\n",
       "        -0.05259927, -0.04675491, -0.04091055, -0.03506618, -0.02922182,\n",
       "        -0.02337745, -0.01753309, -0.01168873, -0.00584436,  0.        ,\n",
       "         0.00584436,  0.01168873,  0.01753309,  0.02337745,  0.02922182,\n",
       "         0.03506618,  0.04091055,  0.04675491,  0.05259927,  0.05844364,\n",
       "         0.064288  ,  0.07013236,  0.07597673,  0.08182109,  0.08766545,\n",
       "         0.09350982,  0.09935418,  0.10519855,  0.11104291,  0.11688727,\n",
       "         0.12273164,  0.128576  ,  0.13442036,  0.14026473,  0.14610909,\n",
       "         0.15195345,  0.15779782,  0.16364218,  0.16948655,  0.17533091,\n",
       "         0.18117527,  0.18701964,  0.192864  ,  0.19870836,  0.20455273,\n",
       "         0.21039709,  0.21624145,  0.22208582,  0.22793018,  0.23377455,\n",
       "         0.23961891,  0.24546327,  0.25130764,  0.257152  ,  0.26299636,\n",
       "         0.26884073,  0.27468509,  0.28052945,  0.28637382,  0.29221818,\n",
       "         0.29806255,  0.30390691,  0.30975127,  0.31559564,  0.32144   ,\n",
       "         0.32728436,  0.33312873,  0.33897309,  0.34481745,  0.35066182,\n",
       "         0.35650618,  0.36235055,  0.36819491,  0.37403927,  0.37988364,\n",
       "         0.385728  ,  0.39157236,  0.39741673]),\n",
       " array([-0.05844364, -0.05259927, -0.04675491, -0.04091055, -0.03506618,\n",
       "        -0.02922182, -0.02337745, -0.01753309, -0.01168873, -0.00584436,\n",
       "         0.        ,  0.00584436,  0.01168873,  0.01753309,  0.02337745,\n",
       "         0.02922182,  0.03506618,  0.04091055,  0.04675491,  0.05259927]))"
      ]
     },
     "execution_count": 271,
     "metadata": {},
     "output_type": "execute_result"
    }
   ],
   "source": [
    "np.searchsorted(rgi2.grid"
   ]
  },
  {
   "cell_type": "code",
   "execution_count": 253,
   "id": "3604edea",
   "metadata": {},
   "outputs": [
    {
     "data": {
      "text/plain": [
       "(10,)"
      ]
     },
     "execution_count": 253,
     "metadata": {},
     "output_type": "execute_result"
    }
   ],
   "source": [
    "interp2.shape"
   ]
  },
  {
   "cell_type": "code",
   "execution_count": 201,
   "id": "861f7c2d",
   "metadata": {},
   "outputs": [
    {
     "data": {
      "text/plain": [
       "0.02028191115112195"
      ]
     },
     "execution_count": 201,
     "metadata": {},
     "output_type": "execute_result"
    }
   ],
   "source": [
    "np.abs(rgi(nw_rotated_masked_coords.T[3730:3740]) - interp2).sum()"
   ]
  },
  {
   "cell_type": "code",
   "execution_count": 197,
   "id": "0ac1ff27",
   "metadata": {},
   "outputs": [
    {
     "data": {
      "text/plain": [
       "162864"
      ]
     },
     "execution_count": 197,
     "metadata": {},
     "output_type": "execute_result"
    }
   ],
   "source": [
    "np.sum(nw_rotation_mask)"
   ]
  },
  {
   "cell_type": "code",
   "execution_count": 198,
   "id": "659f7cc5",
   "metadata": {},
   "outputs": [
    {
     "data": {
      "text/plain": [
       "197965"
      ]
     },
     "execution_count": 198,
     "metadata": {},
     "output_type": "execute_result"
    }
   ],
   "source": [
    "np.sum(np.abs(smp.rho) > 0)"
   ]
  },
  {
   "cell_type": "code",
   "execution_count": 167,
   "id": "db4f514c",
   "metadata": {},
   "outputs": [
    {
     "data": {
      "text/plain": [
       "162864"
      ]
     },
     "execution_count": 167,
     "metadata": {},
     "output_type": "execute_result"
    }
   ],
   "source": [
    "np.size(nw_rotation_mask_indices)"
   ]
  },
  {
   "cell_type": "code",
   "execution_count": 155,
   "id": "95d21551",
   "metadata": {},
   "outputs": [
    {
     "data": {
      "text/plain": [
       "array([False, False, False, ..., False, False, False])"
      ]
     },
     "execution_count": 155,
     "metadata": {},
     "output_type": "execute_result"
    }
   ],
   "source": [
    "nw_rotation_mask"
   ]
  },
  {
   "cell_type": "markdown",
   "id": "e7cd18e9",
   "metadata": {},
   "source": [
    "## Minimal working example for scipy githup"
   ]
  },
  {
   "cell_type": "code",
   "execution_count": 385,
   "id": "3febc769",
   "metadata": {},
   "outputs": [],
   "source": [
    "box_xy = np.linspace(-1,1,30)\n",
    "box_xy_mask = np.abs(box_xy) < 0.6\n",
    "box_xy_indices = np.where(box_xy_mask)\n",
    "zvals = (box_xy * box_xy_mask) * (box_xy[:,None] * box_xy_mask[:,None])"
   ]
  },
  {
   "cell_type": "code",
   "execution_count": 398,
   "id": "4479fac1",
   "metadata": {},
   "outputs": [],
   "source": [
    "nw1 = box_xy\n",
    "nw2 = box_xy[4:-4]\n",
    "zvals2 = zvals[4:-4,4:-4]"
   ]
  },
  {
   "cell_type": "code",
   "execution_count": 399,
   "id": "9f85ef05",
   "metadata": {},
   "outputs": [],
   "source": [
    "rgi1 = RegularGridInterpolator((box_xy, box_xy), \n",
    "                               zvals, bounds_error=False, fill_value=0)\n",
    "rgi2 = RegularGridInterpolator((nw2, nw2), \n",
    "                               zvals2, bounds_error=False, fill_value=0)"
   ]
  },
  {
   "cell_type": "code",
   "execution_count": 409,
   "id": "5ad16937",
   "metadata": {},
   "outputs": [],
   "source": [
    "test_arr = np.array([np.random.randn(5000), np.random.randn(5000)]).T"
   ]
  },
  {
   "cell_type": "code",
   "execution_count": 410,
   "id": "3ce6ec10",
   "metadata": {},
   "outputs": [
    {
     "data": {
      "text/plain": [
       "0.0"
      ]
     },
     "execution_count": 410,
     "metadata": {},
     "output_type": "execute_result"
    }
   ],
   "source": [
    "np.abs(rgi1(test_arr) - rgi2(test_arr)).sum()"
   ]
  },
  {
   "cell_type": "code",
   "execution_count": 402,
   "id": "6bb86dd7",
   "metadata": {},
   "outputs": [],
   "source": [
    "rot_arr = (rot_mat[1:,1:] @ test_arr.T).T"
   ]
  },
  {
   "cell_type": "code",
   "execution_count": 404,
   "id": "fbf6ad2e",
   "metadata": {},
   "outputs": [
    {
     "data": {
      "text/plain": [
       "array([0., 0., 0., 0., 0., 0., 0., 0., 0., 0., 0., 0., 0., 0., 0., 0., 0.,\n",
       "       0., 0., 0., 0., 0., 0., 0., 0., 0., 0., 0., 0., 0., 0., 0., 0., 0.,\n",
       "       0., 0., 0., 0., 0., 0., 0., 0., 0., 0., 0., 0., 0., 0., 0., 0., 0.,\n",
       "       0., 0., 0., 0., 0., 0., 0., 0., 0., 0., 0., 0., 0., 0., 0., 0., 0.,\n",
       "       0., 0., 0., 0., 0., 0., 0., 0., 0., 0., 0., 0., 0., 0., 0., 0., 0.,\n",
       "       0., 0., 0., 0., 0., 0., 0., 0., 0., 0., 0., 0., 0., 0., 0.])"
      ]
     },
     "execution_count": 404,
     "metadata": {},
     "output_type": "execute_result"
    }
   ],
   "source": [
    "rgi1(rot_arr) - rgi2(rot_arr)"
   ]
  },
  {
   "cell_type": "code",
   "execution_count": null,
   "id": "5699ff6b",
   "metadata": {},
   "outputs": [],
   "source": []
  }
 ],
 "metadata": {
  "kernelspec": {
   "display_name": "Python 3",
   "language": "python",
   "name": "python3"
  },
  "language_info": {
   "codemirror_mode": {
    "name": "ipython",
    "version": 3
   },
   "file_extension": ".py",
   "mimetype": "text/x-python",
   "name": "python",
   "nbconvert_exporter": "python",
   "pygments_lexer": "ipython3",
   "version": "3.8.5"
  }
 },
 "nbformat": 4,
 "nbformat_minor": 5
}
