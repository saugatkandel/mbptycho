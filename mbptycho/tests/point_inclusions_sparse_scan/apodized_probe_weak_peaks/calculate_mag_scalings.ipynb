{
 "cells": [
  {
   "cell_type": "code",
   "execution_count": 9,
   "id": "c40482e5",
   "metadata": {},
   "outputs": [],
   "source": [
    "import numpy as np\n",
    "from mbptycho.code.simulation import SampleParams, SimulationParams\n",
    "from typing import List, Tuple"
   ]
  },
  {
   "cell_type": "code",
   "execution_count": 3,
   "id": "40d00b81",
   "metadata": {},
   "outputs": [],
   "source": [
    "def HKLToTheta(lattice_dist: np.array, wavelength: float, H: int, K: int, L: int):\n",
    "    \"\"\"Adapt input for Laue geometry at HXN from APS nanoprobe mounting convention.\n",
    "\n",
    "    Output is in theta, tth, gam APS NP convention: tth in-plane, gam oop\n",
    "\n",
    "    Parameters\n",
    "    ----------\n",
    "    H : int\n",
    "    K : int\n",
    "    L : int\n",
    "    Returns\n",
    "    -------\n",
    "    theta : float\n",
    "        Theta angle in radians\n",
    "    two_theta : float\n",
    "        Two-theta in radians\n",
    "    gamma : float\n",
    "        Gamma in radians\n",
    "    \"\"\"\n",
    "    Htemp = K\n",
    "    Ktemp = L\n",
    "    Ltemp = H\n",
    "\n",
    "    H = Htemp\n",
    "    L = Ltemp\n",
    "    K = Ktemp\n",
    "\n",
    "    ang_y = np.arctan2(L, H)\n",
    "    # what is ang_sym?\n",
    "    ang_sym = np.arcsin((np.sqrt(H ** 2 + K ** 2 + L ** 2) / 2) / (lattice_dist[0] /  wavelength))\n",
    "    ang2_sym = 2 * ang_sym\n",
    "\n",
    "    det_phi = np.arcsin(np.cos(ang_y) / np.sin(np.pi / 2 - ang_sym))\n",
    "    temp = (np.sin(ang2_sym) * np.cos(det_phi)) ** 2 + np.cos(ang2_sym) ** 2\n",
    "\n",
    "    theta = np.arcsin(np.cos(np.pi / 2 - ang_sym) / np.sin(ang_y))\n",
    "    two_theta = np.arcsin(np.sin(ang2_sym) * np.cos(det_phi) / temp ** 0.5)\n",
    "    gamma = np.arctan(np.sin(ang2_sym) * np.sin(det_phi) / temp ** 0.5)\n",
    "\n",
    "    return np.array([theta, two_theta, gamma])"
   ]
  },
  {
   "cell_type": "code",
   "execution_count": 10,
   "id": "9452a551",
   "metadata": {},
   "outputs": [],
   "source": [
    "def getRotations(theta: float, two_theta: float, gamma: float) -> Tuple[np.ndarray, np.ndarray, np.ndarray]:\n",
    "    \"\"\"Get rotation matrices corresponding to the provided motor positions.\n",
    "\n",
    "    The angles provided (and the rotations calculated) do not use the standard clockwise/counterclockwise\n",
    "    convention. I adapted Stephan's code as is, but I need to check with him to make sure what I am doing here\n",
    "    actually makes sense. Also need to document these rotations properly.\n",
    "\n",
    "    Parameters\n",
    "    ----------\n",
    "    theta : float\n",
    "        Theta motor (in radians) (which corresponds to a rotation about the y-axis).\n",
    "    two_theta : float\n",
    "        Two-theta motor (in radians)\n",
    "    gamma : float\n",
    "        Gamma motor (in radians)\n",
    "    Returns\n",
    "    -------\n",
    "    rotate_theta : array(float)\n",
    "        3x3 Matrix that gives the rotation for the theta angle (about the y-axis). See `Notes`.\n",
    "    rotate_two_theta : array(float)\n",
    "        3x3 rotation matrix for two_theta\n",
    "    rotate_gamma : array(float)\n",
    "        3x3 rotation matrix for gamma\n",
    "    Notes\n",
    "    -----\n",
    "    Assumes that the coordinates are stored in (y,x,z) format rather than the typical (x,y,z) format.\n",
    "    \"\"\"\n",
    "\n",
    "    # this is rotation about the y-axis\n",
    "    rotate_theta = np.array([[1, 0, 0],\n",
    "                             [0, np.cos(theta), np.sin(theta)],\n",
    "                             [0, -np.sin(theta), np.cos(theta)]])\n",
    "\n",
    "    rotate_two_theta = np.array([[1, 0, 0],\n",
    "                                 [0, np.cos(-two_theta), np.sin(-two_theta)],\n",
    "                                 [0, -np.sin(-two_theta), np.cos(-two_theta)]])\n",
    "\n",
    "    rotate_gamma = np.array([[np.cos(-gamma), 0, -np.sin(-gamma)],\n",
    "                             [0, 1, 0],\n",
    "                             [np.sin(-gamma), 0, np.cos(-gamma)]])\n",
    "    return rotate_theta, rotate_two_theta, rotate_gamma"
   ]
  },
  {
   "cell_type": "code",
   "execution_count": 6,
   "id": "24f2d739",
   "metadata": {},
   "outputs": [],
   "source": [
    "\n",
    "sim_params = SimulationParams()\n",
    "sample_params = SampleParams(sim_params.sample_pix_size, sim_params.wavelength)\n",
    "hkl_list = np.array([[1, 0, 0], [1, 1, 0], [1, 2, 0], [2, 1, 0]])\n",
    "motor_list = np.array([-HKLToTheta(sample_params.lattice, sim_params.wavelength, *HKL)  for HKL in hkl_list])"
   ]
  },
  {
   "cell_type": "code",
   "execution_count": 30,
   "id": "a68fc981",
   "metadata": {},
   "outputs": [
    {
     "data": {
      "text/plain": [
       "(array([-0.17731696, -0.36053885, -1.07997542, -0.45668261]),\n",
       " array([-0.35463393, -0.36053885, -0.23685368, -0.74335671]),\n",
       " array([-2.16014524e-17, -3.60538849e-01, -7.83208806e-01, -3.60538849e-01]))"
      ]
     },
     "execution_count": 30,
     "metadata": {},
     "output_type": "execute_result"
    }
   ],
   "source": [
    "thetas_rad, two_thetas_rad, gammas_rad"
   ]
  },
  {
   "cell_type": "code",
   "execution_count": 32,
   "id": "a7189c66",
   "metadata": {},
   "outputs": [
    {
     "name": "stdout",
     "output_type": "stream",
     "text": [
      "0\n",
      "[[ 1.          0.          0.        ]\n",
      " [ 0.          0.98432049 -0.17638924]\n",
      " [ 0.          0.17638924  0.98432049]]\n",
      "[[ 2.02572732e-17]\n",
      " [-3.47247097e-01]\n",
      " [ 6.22263312e-02]]\n",
      "1\n",
      "[[ 1.          0.          0.        ]\n",
      " [ 0.          0.93570687 -0.35277849]\n",
      " [ 0.          0.35277849  0.93570687]]\n",
      "[[ 0.33009725]\n",
      " [-0.35277849]\n",
      " [ 0.12445266]]\n",
      "2\n",
      "[[ 1.          0.          0.        ]\n",
      " [ 0.          0.47135004 -0.88194622]\n",
      " [ 0.          0.88194622  0.47135004]]\n",
      "[[ 0.68585857]\n",
      " [-0.23464532]\n",
      " [ 0.31113166]]\n",
      "3\n",
      "[[ 1.          0.          0.        ]\n",
      " [ 0.          0.89752031 -0.44097311]\n",
      " [ 0.          0.44097311  0.89752031]]\n",
      "[[ 0.25971588]\n",
      " [-0.67676293]\n",
      " [ 0.31113166]]\n"
     ]
    }
   ],
   "source": [
    "thetas_rad, two_thetas_rad, gammas_rad = motor_list.T\n",
    "q_norm_all = np.zeros(hkl_list.shape[0])\n",
    "for i in range(hkl_list.shape[0]):\n",
    "    rotate_theta, rotate_two_theta, rotate_gamma = getRotations(thetas_rad[i], \n",
    "                                                                two_thetas_rad[i],\n",
    "                                                                gammas_rad[i])\n",
    "    print(i)\n",
    "    print(rotate_theta)\n",
    "    ki = np.array([0, 0, 1])[:, None]\n",
    "\n",
    "    ki_rotated = rotate_gamma @ rotate_two_theta @ ki\n",
    "    kf = np.array([0, 0, 1])[:, None]\n",
    "    q = kf - ki_rotated\n",
    "    print(q)\n",
    "    q_norm_all[i] = np.linalg.norm(q)"
   ]
  },
  {
   "cell_type": "code",
   "execution_count": 38,
   "id": "56f29411",
   "metadata": {},
   "outputs": [
    {
     "data": {
      "text/plain": [
       "array([0.06456418, 0.01614104, 0.00258257, 0.00258257])"
      ]
     },
     "execution_count": 38,
     "metadata": {},
     "output_type": "execute_result"
    }
   ],
   "source": [
    "scalings_all = 1e-3 / q_norm_all**4\n",
    "scalings_all"
   ]
  },
  {
   "cell_type": "code",
   "execution_count": 43,
   "id": "96a3ba70",
   "metadata": {},
   "outputs": [
    {
     "data": {
      "text/plain": [
       "array([0.00807052, 0.00201763, 0.00032282, 0.00032282])"
      ]
     },
     "execution_count": 43,
     "metadata": {},
     "output_type": "execute_result"
    }
   ],
   "source": [
    "scalings_all / 8"
   ]
  },
  {
   "cell_type": "code",
   "execution_count": 44,
   "id": "bd7c443d",
   "metadata": {},
   "outputs": [
    {
     "data": {
      "text/plain": [
       "array([0.01614104, 0.00403526, 0.00064564, 0.00064564])"
      ]
     },
     "execution_count": 44,
     "metadata": {},
     "output_type": "execute_result"
    }
   ],
   "source": [
    "scalings_all / 4"
   ]
  },
  {
   "cell_type": "code",
   "execution_count": null,
   "id": "427ce762",
   "metadata": {},
   "outputs": [],
   "source": []
  }
 ],
 "metadata": {
  "kernelspec": {
   "display_name": "Python 3",
   "language": "python",
   "name": "python3"
  },
  "language_info": {
   "codemirror_mode": {
    "name": "ipython",
    "version": 3
   },
   "file_extension": ".py",
   "mimetype": "text/x-python",
   "name": "python",
   "nbconvert_exporter": "python",
   "pygments_lexer": "ipython3",
   "version": "3.8.5"
  }
 },
 "nbformat": 4,
 "nbformat_minor": 5
}
